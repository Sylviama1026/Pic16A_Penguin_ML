{
 "cells": [
  {
   "cell_type": "markdown",
   "metadata": {},
   "source": [
    "# Mini-Project: Palmer Penguins\n",
    "_Group 24: Ziwei Li, Yilia Zhao, Shiyu Ma_"
   ]
  },
  {
   "cell_type": "markdown",
   "metadata": {},
   "source": [
    "## Introduction"
   ]
  },
  {
   "cell_type": "markdown",
   "metadata": {},
   "source": [
    "It is important to catalog the different species of penguins in Antarctica for scientific analysis. However, this often requires strenuous work that includes a combination of biological expertise and many precise measurements.\n",
    "\n",
    "In this project, we will use an easier way to help determine the penguin species. We will explore the Palmer Penguins Data set collected by Dr. Kristen Gorman and the Palmer Station, Antarctica LTER and apply machine learning models to figure out the species based on several selected features."
   ]
  },
  {
   "cell_type": "markdown",
   "metadata": {},
   "source": [
    "## Group Contribution Statement"
   ]
  },
  {
   "cell_type": "markdown",
   "metadata": {},
   "source": [
    "In this project, all three of us worked together in the exploratory analysis part. We observed the relationships between different variables and determined the prospective features to use in the models. Ziwei made a great contribution in clearing the raw data, and spliting the data into training and test sets. She also led on the first model - the Decision Tree model. Shiyu led on the second model - the Multinomial Logistic Regression model. Yilia led on the third model - the K-Nearest-Neighbor Classifiers model. Then, we discussed and interpreted the performances of the three models. Finally, we worked together to finish the docstrings and comments of our codes, and we modified our project into a well-organized notebook as well."
   ]
  },
  {
   "cell_type": "markdown",
   "metadata": {},
   "source": [
    "## §1. Loading and Preparing our data"
   ]
  },
  {
   "cell_type": "markdown",
   "metadata": {},
   "source": [
    "### Standard Import"
   ]
  },
  {
   "cell_type": "code",
   "execution_count": 1,
   "metadata": {},
   "outputs": [],
   "source": [
    "import pandas as pd\n",
    "import numpy as np\n",
    "from matplotlib import pyplot as plt\n",
    "from sklearn import tree, preprocessing\n",
    "from sklearn.linear_model import LogisticRegression\n",
    "from sklearn.model_selection import cross_val_score\n",
    "from sklearn.model_selection import train_test_split\n",
    "from sklearn.metrics import confusion_matrix\n",
    "from sklearn.neighbors import KNeighborsClassifier"
   ]
  },
  {
   "cell_type": "markdown",
   "metadata": {},
   "source": [
    "Starting with loading the penguin data, we changed the Species name to only get the first word of the species so that our data is easier to read.\n",
    "\n",
    "In this case, we get __Adelie, Chinstrap__, and __Gentoo__ for all the penguin species.\n",
    "Here are some example data:"
   ]
  },
  {
   "cell_type": "code",
   "execution_count": 2,
   "metadata": {
    "scrolled": false
   },
   "outputs": [
    {
     "data": {
      "text/html": [
       "<div>\n",
       "<style scoped>\n",
       "    .dataframe tbody tr th:only-of-type {\n",
       "        vertical-align: middle;\n",
       "    }\n",
       "\n",
       "    .dataframe tbody tr th {\n",
       "        vertical-align: top;\n",
       "    }\n",
       "\n",
       "    .dataframe thead th {\n",
       "        text-align: right;\n",
       "    }\n",
       "</style>\n",
       "<table border=\"1\" class=\"dataframe\">\n",
       "  <thead>\n",
       "    <tr style=\"text-align: right;\">\n",
       "      <th></th>\n",
       "      <th>studyName</th>\n",
       "      <th>Sample Number</th>\n",
       "      <th>Species</th>\n",
       "      <th>Region</th>\n",
       "      <th>Island</th>\n",
       "      <th>Stage</th>\n",
       "      <th>Individual ID</th>\n",
       "      <th>Clutch Completion</th>\n",
       "      <th>Date Egg</th>\n",
       "      <th>Culmen Length (mm)</th>\n",
       "      <th>Culmen Depth (mm)</th>\n",
       "      <th>Flipper Length (mm)</th>\n",
       "      <th>Body Mass (g)</th>\n",
       "      <th>Sex</th>\n",
       "      <th>Delta 15 N (o/oo)</th>\n",
       "      <th>Delta 13 C (o/oo)</th>\n",
       "      <th>Comments</th>\n",
       "    </tr>\n",
       "  </thead>\n",
       "  <tbody>\n",
       "    <tr>\n",
       "      <th>0</th>\n",
       "      <td>PAL0708</td>\n",
       "      <td>1</td>\n",
       "      <td>Adelie</td>\n",
       "      <td>Anvers</td>\n",
       "      <td>Torgersen</td>\n",
       "      <td>Adult, 1 Egg Stage</td>\n",
       "      <td>N1A1</td>\n",
       "      <td>Yes</td>\n",
       "      <td>11/11/07</td>\n",
       "      <td>39.1</td>\n",
       "      <td>18.7</td>\n",
       "      <td>181.0</td>\n",
       "      <td>3750.0</td>\n",
       "      <td>MALE</td>\n",
       "      <td>NaN</td>\n",
       "      <td>NaN</td>\n",
       "      <td>Not enough blood for isotopes.</td>\n",
       "    </tr>\n",
       "    <tr>\n",
       "      <th>1</th>\n",
       "      <td>PAL0708</td>\n",
       "      <td>2</td>\n",
       "      <td>Adelie</td>\n",
       "      <td>Anvers</td>\n",
       "      <td>Torgersen</td>\n",
       "      <td>Adult, 1 Egg Stage</td>\n",
       "      <td>N1A2</td>\n",
       "      <td>Yes</td>\n",
       "      <td>11/11/07</td>\n",
       "      <td>39.5</td>\n",
       "      <td>17.4</td>\n",
       "      <td>186.0</td>\n",
       "      <td>3800.0</td>\n",
       "      <td>FEMALE</td>\n",
       "      <td>8.94956</td>\n",
       "      <td>-24.69454</td>\n",
       "      <td>NaN</td>\n",
       "    </tr>\n",
       "    <tr>\n",
       "      <th>2</th>\n",
       "      <td>PAL0708</td>\n",
       "      <td>3</td>\n",
       "      <td>Adelie</td>\n",
       "      <td>Anvers</td>\n",
       "      <td>Torgersen</td>\n",
       "      <td>Adult, 1 Egg Stage</td>\n",
       "      <td>N2A1</td>\n",
       "      <td>Yes</td>\n",
       "      <td>11/16/07</td>\n",
       "      <td>40.3</td>\n",
       "      <td>18.0</td>\n",
       "      <td>195.0</td>\n",
       "      <td>3250.0</td>\n",
       "      <td>FEMALE</td>\n",
       "      <td>8.36821</td>\n",
       "      <td>-25.33302</td>\n",
       "      <td>NaN</td>\n",
       "    </tr>\n",
       "    <tr>\n",
       "      <th>4</th>\n",
       "      <td>PAL0708</td>\n",
       "      <td>5</td>\n",
       "      <td>Adelie</td>\n",
       "      <td>Anvers</td>\n",
       "      <td>Torgersen</td>\n",
       "      <td>Adult, 1 Egg Stage</td>\n",
       "      <td>N3A1</td>\n",
       "      <td>Yes</td>\n",
       "      <td>11/16/07</td>\n",
       "      <td>36.7</td>\n",
       "      <td>19.3</td>\n",
       "      <td>193.0</td>\n",
       "      <td>3450.0</td>\n",
       "      <td>FEMALE</td>\n",
       "      <td>8.76651</td>\n",
       "      <td>-25.32426</td>\n",
       "      <td>NaN</td>\n",
       "    </tr>\n",
       "    <tr>\n",
       "      <th>5</th>\n",
       "      <td>PAL0708</td>\n",
       "      <td>6</td>\n",
       "      <td>Adelie</td>\n",
       "      <td>Anvers</td>\n",
       "      <td>Torgersen</td>\n",
       "      <td>Adult, 1 Egg Stage</td>\n",
       "      <td>N3A2</td>\n",
       "      <td>Yes</td>\n",
       "      <td>11/16/07</td>\n",
       "      <td>39.3</td>\n",
       "      <td>20.6</td>\n",
       "      <td>190.0</td>\n",
       "      <td>3650.0</td>\n",
       "      <td>MALE</td>\n",
       "      <td>8.66496</td>\n",
       "      <td>-25.29805</td>\n",
       "      <td>NaN</td>\n",
       "    </tr>\n",
       "    <tr>\n",
       "      <th>6</th>\n",
       "      <td>PAL0708</td>\n",
       "      <td>7</td>\n",
       "      <td>Adelie</td>\n",
       "      <td>Anvers</td>\n",
       "      <td>Torgersen</td>\n",
       "      <td>Adult, 1 Egg Stage</td>\n",
       "      <td>N4A1</td>\n",
       "      <td>No</td>\n",
       "      <td>11/15/07</td>\n",
       "      <td>38.9</td>\n",
       "      <td>17.8</td>\n",
       "      <td>181.0</td>\n",
       "      <td>3625.0</td>\n",
       "      <td>FEMALE</td>\n",
       "      <td>9.18718</td>\n",
       "      <td>-25.21799</td>\n",
       "      <td>Nest never observed with full clutch.</td>\n",
       "    </tr>\n",
       "  </tbody>\n",
       "</table>\n",
       "</div>"
      ],
      "text/plain": [
       "  studyName  Sample Number Species  Region     Island               Stage  \\\n",
       "0   PAL0708              1  Adelie  Anvers  Torgersen  Adult, 1 Egg Stage   \n",
       "1   PAL0708              2  Adelie  Anvers  Torgersen  Adult, 1 Egg Stage   \n",
       "2   PAL0708              3  Adelie  Anvers  Torgersen  Adult, 1 Egg Stage   \n",
       "4   PAL0708              5  Adelie  Anvers  Torgersen  Adult, 1 Egg Stage   \n",
       "5   PAL0708              6  Adelie  Anvers  Torgersen  Adult, 1 Egg Stage   \n",
       "6   PAL0708              7  Adelie  Anvers  Torgersen  Adult, 1 Egg Stage   \n",
       "\n",
       "  Individual ID Clutch Completion  Date Egg  Culmen Length (mm)  \\\n",
       "0          N1A1               Yes  11/11/07                39.1   \n",
       "1          N1A2               Yes  11/11/07                39.5   \n",
       "2          N2A1               Yes  11/16/07                40.3   \n",
       "4          N3A1               Yes  11/16/07                36.7   \n",
       "5          N3A2               Yes  11/16/07                39.3   \n",
       "6          N4A1                No  11/15/07                38.9   \n",
       "\n",
       "   Culmen Depth (mm)  Flipper Length (mm)  Body Mass (g)     Sex  \\\n",
       "0               18.7                181.0         3750.0    MALE   \n",
       "1               17.4                186.0         3800.0  FEMALE   \n",
       "2               18.0                195.0         3250.0  FEMALE   \n",
       "4               19.3                193.0         3450.0  FEMALE   \n",
       "5               20.6                190.0         3650.0    MALE   \n",
       "6               17.8                181.0         3625.0  FEMALE   \n",
       "\n",
       "   Delta 15 N (o/oo)  Delta 13 C (o/oo)                               Comments  \n",
       "0                NaN                NaN         Not enough blood for isotopes.  \n",
       "1            8.94956          -24.69454                                    NaN  \n",
       "2            8.36821          -25.33302                                    NaN  \n",
       "4            8.76651          -25.32426                                    NaN  \n",
       "5            8.66496          -25.29805                                    NaN  \n",
       "6            9.18718          -25.21799  Nest never observed with full clutch.  "
      ]
     },
     "execution_count": 2,
     "metadata": {},
     "output_type": "execute_result"
    }
   ],
   "source": [
    "url = 'https://philchodrow.github.io/PIC16A/datasets/palmer_penguins.csv'\n",
    "penguins = pd.read_csv(\"palmer_penguins.csv\")\n",
    "\n",
    "#shorten the species name\n",
    "penguins[\"Species\"] = penguins[\"Species\"].str.split().str.get(0)\n",
    "#clear data that doesn't make sense\n",
    "penguins=penguins[(penguins[\"Sex\"]==\"MALE\") | (penguins[\"Sex\"]==\"FEMALE\")]\n",
    "penguins.head(6)"
   ]
  },
  {
   "cell_type": "markdown",
   "metadata": {},
   "source": [
    "## §2. Exploratory Analysis"
   ]
  },
  {
   "cell_type": "markdown",
   "metadata": {},
   "source": [
    "In this section, we explored the penguin data using summary tables and plots. We would use our observations on the relationships between variables to make modeling decisions in the modeling section."
   ]
  },
  {
   "cell_type": "markdown",
   "metadata": {},
   "source": [
    "### Scatterplot by species"
   ]
  },
  {
   "cell_type": "markdown",
   "metadata": {},
   "source": [
    "First of all, we created a scatterplot with __Culmen length__ on the x-axis and __Culmen depth__ on the y-axis. Each specie is represented in a distinct color."
   ]
  },
  {
   "cell_type": "code",
   "execution_count": 3,
   "metadata": {},
   "outputs": [
    {
     "data": {
      "text/plain": [
       "<matplotlib.legend.Legend at 0x14dd0e23310>"
      ]
     },
     "execution_count": 3,
     "metadata": {},
     "output_type": "execute_result"
    },
    {
     "data": {
      "image/png": "[encoded data removed]",
      "text/plain": [
       "<Figure size 432x288 with 1 Axes>"
      ]
     },
     "metadata": {
      "needs_background": "light"
     },
     "output_type": "display_data"
    }
   ],
   "source": [
    "fig, ax = plt.subplots(1)\n",
    "ax.set(xlabel = \"Culmen Length (mm)\",\n",
    "       ylabel = \"Culmen Depth (mm)\",\n",
    "      title=\"Culmen Depth vs. Culmen Length (mm) by Species\") #set x,y axis name\n",
    "\n",
    "species=set(penguins[\"Species\"]) #get all types of species\n",
    "\n",
    "for s in species:\n",
    "    only=penguins[penguins[\"Species\"]==s] #for a given species\n",
    "    #plot its length~depth\n",
    "    #label=s.split(' ')[0] get the first word in species name\n",
    "    ax.scatter(only[\"Culmen Length (mm)\"],only[\"Culmen Depth (mm)\"],label=s.split(' ')[0],alpha=0.5)\n",
    "\n",
    "ax.legend() #add legend as label specified above\n"
   ]
  },
  {
   "cell_type": "markdown",
   "metadata": {},
   "source": [
    "From the graph above, we can see that Adelie penguins on average have relatively shorter Culmen Length (< 45mm approximately) compared to that of the other two species. Also, Gentoo penguins have relatively smaller Culmen Depth (<17 mm approximately). These two features may be helpful to determine the species in later analysis."
   ]
  },
  {
   "cell_type": "markdown",
   "metadata": {},
   "source": [
    "### Body Mass histogram"
   ]
  },
  {
   "cell_type": "markdown",
   "metadata": {},
   "source": [
    "Second, we made a histogram of __Body Mass__ of different species to see their distributions. This graph might allow us to inspect the relationship between body masses and different species."
   ]
  },
  {
   "cell_type": "code",
   "execution_count": 4,
   "metadata": {
    "scrolled": true
   },
   "outputs": [
    {
     "data": {
      "text/plain": [
       "<matplotlib.legend.Legend at 0x14dd1162b80>"
      ]
     },
     "execution_count": 4,
     "metadata": {},
     "output_type": "execute_result"
    },
    {
     "data": {
      "image/png": "[encoded data removed]",
      "text/plain": [
       "<Figure size 432x288 with 1 Axes>"
      ]
     },
     "metadata": {
      "needs_background": "light"
     },
     "output_type": "display_data"
    }
   ],
   "source": [
    "fig, ax = plt.subplots(1)\n",
    "ax.set(xlabel = \"Body Mass (g)\",\n",
    "       ylabel = \"Density\") #set x,y axis name\n",
    "\n",
    "species=set(penguins[\"Species\"]) #get all types of species\n",
    "\n",
    "for s in species:\n",
    "    only=penguins[(penguins[\"Species\"]==s)] #for a given species\n",
    "    only=only[\"Body Mass (g)\"].dropna()\n",
    "    if only.empty:continue #avoid error\n",
    "    ax.hist(only,label=s,alpha=.5)\n",
    "ax.legend() #add legend, not in loop\n"
   ]
  },
  {
   "cell_type": "markdown",
   "metadata": {},
   "source": [
    "From this graph, we can see that Gentoo penguins have relatively higer body masses than the other two species. However, Adelie and Chinstrap penguins have similar body masses which indicates that we might need other features to distinguish these two species."
   ]
  },
  {
   "cell_type": "markdown",
   "metadata": {},
   "source": [
    "### Boxplots of Culmen Length and Culmen Depth (Classified by Sex and Species)"
   ]
  },
  {
   "cell_type": "markdown",
   "metadata": {},
   "source": [
    "Next, we expected the variable sex is related to different species. Here we created two boxplots to see the different ranges of Culmen lengths and Culmen Depths for species in two sexes."
   ]
  },
  {
   "cell_type": "code",
   "execution_count": 5,
   "metadata": {
    "scrolled": false
   },
   "outputs": [
    {
     "data": {
      "image/png": "[encoded data removed]",
      "text/plain": [
       "<Figure size 1080x360 with 2 Axes>"
      ]
     },
     "metadata": {
      "needs_background": "light"
     },
     "output_type": "display_data"
    }
   ],
   "source": [
    "import seaborn as sns\n",
    "\n",
    "fig, axes = plt.subplots(1, 2, figsize=(15, 5), sharey=False) #create two empty subplots\n",
    "\n",
    "#two boxplots of culmen length and culmen depth\n",
    "sns.boxplot(ax=axes[0],x=\"Species\", y=\"Culmen Length (mm)\", hue=\"Sex\", data=penguins, palette=\"Set1\")\n",
    "sns.boxplot(ax=axes[1],x=\"Species\", y=\"Culmen Depth (mm)\", hue=\"Sex\", data=penguins, palette=\"Set1\")\n",
    "plt.show()"
   ]
  },
  {
   "cell_type": "markdown",
   "metadata": {},
   "source": [
    "From the two plots above, we could tell that the culmen lengths of male penguins are always higher that those of the female penguins. Also, the culmen lengths of Adelie penguins are lower than those of the other two species. In addition, the culmen depths of Adelie penguins are higher than those of the other two species.   \n",
    "\n",
    "We also observed some outliers that are presented as dots in the graphs. These outliers might cause some false predictions since they overlap with the ranges of the other species' data."
   ]
  },
  {
   "cell_type": "markdown",
   "metadata": {},
   "source": [
    "### Tables with Different Selections of Variables"
   ]
  },
  {
   "cell_type": "markdown",
   "metadata": {},
   "source": [
    "In this section, we will use tables to further explore the relationships between species and different variables for the following machine learning analysis.\n",
    "\n",
    "First, we wrote a function to better systematically construct summary tables for different groups of penguins with specified variables."
   ]
  },
  {
   "cell_type": "code",
   "execution_count": 6,
   "metadata": {},
   "outputs": [],
   "source": [
    "def penguin_summary_table(group_cols,value_cols):\n",
    "    '''\n",
    "    Construct a data for the specified groups of penguins\n",
    "    input:\n",
    "    group_cols - the penguins we would like to group by\n",
    "    value_cols - data of the grouped penguins we would like to observe\n",
    "    --------\n",
    "    output:\n",
    "    a summary table for the specified penguins\n",
    "    '''\n",
    "    #value_cols is a list, no need double []\n",
    "    return penguins.groupby(group_cols)[value_cols].mean().round(2) "
   ]
  },
  {
   "cell_type": "markdown",
   "metadata": {},
   "source": [
    "### Table with a lot of columns"
   ]
  },
  {
   "cell_type": "markdown",
   "metadata": {},
   "source": [
    "To begin with, we included many variables that we considered relevant in determing the species to observe the potential useful features for the following models."
   ]
  },
  {
   "cell_type": "code",
   "execution_count": 7,
   "metadata": {},
   "outputs": [
    {
     "data": {
      "text/html": [
       "<div>\n",
       "<style scoped>\n",
       "    .dataframe tbody tr th:only-of-type {\n",
       "        vertical-align: middle;\n",
       "    }\n",
       "\n",
       "    .dataframe tbody tr th {\n",
       "        vertical-align: top;\n",
       "    }\n",
       "\n",
       "    .dataframe thead th {\n",
       "        text-align: right;\n",
       "    }\n",
       "</style>\n",
       "<table border=\"1\" class=\"dataframe\">\n",
       "  <thead>\n",
       "    <tr style=\"text-align: right;\">\n",
       "      <th></th>\n",
       "      <th></th>\n",
       "      <th></th>\n",
       "      <th>Culmen Length (mm)</th>\n",
       "      <th>Culmen Depth (mm)</th>\n",
       "      <th>Flipper Length (mm)</th>\n",
       "      <th>Body Mass (g)</th>\n",
       "      <th>Delta 15 N (o/oo)</th>\n",
       "      <th>Delta 13 C (o/oo)</th>\n",
       "    </tr>\n",
       "    <tr>\n",
       "      <th>Island</th>\n",
       "      <th>Sex</th>\n",
       "      <th>Species</th>\n",
       "      <th></th>\n",
       "      <th></th>\n",
       "      <th></th>\n",
       "      <th></th>\n",
       "      <th></th>\n",
       "      <th></th>\n",
       "    </tr>\n",
       "  </thead>\n",
       "  <tbody>\n",
       "    <tr>\n",
       "      <th rowspan=\"4\" valign=\"top\">Biscoe</th>\n",
       "      <th rowspan=\"2\" valign=\"top\">FEMALE</th>\n",
       "      <th>Adelie</th>\n",
       "      <td>37.36</td>\n",
       "      <td>17.70</td>\n",
       "      <td>187.18</td>\n",
       "      <td>3369.32</td>\n",
       "      <td>8.77</td>\n",
       "      <td>-25.92</td>\n",
       "    </tr>\n",
       "    <tr>\n",
       "      <th>Gentoo</th>\n",
       "      <td>45.56</td>\n",
       "      <td>14.24</td>\n",
       "      <td>212.71</td>\n",
       "      <td>4679.74</td>\n",
       "      <td>8.19</td>\n",
       "      <td>-26.20</td>\n",
       "    </tr>\n",
       "    <tr>\n",
       "      <th rowspan=\"2\" valign=\"top\">MALE</th>\n",
       "      <th>Adelie</th>\n",
       "      <td>40.59</td>\n",
       "      <td>19.04</td>\n",
       "      <td>190.41</td>\n",
       "      <td>4050.00</td>\n",
       "      <td>8.87</td>\n",
       "      <td>-25.92</td>\n",
       "    </tr>\n",
       "    <tr>\n",
       "      <th>Gentoo</th>\n",
       "      <td>49.47</td>\n",
       "      <td>15.72</td>\n",
       "      <td>221.54</td>\n",
       "      <td>5484.84</td>\n",
       "      <td>8.30</td>\n",
       "      <td>-26.17</td>\n",
       "    </tr>\n",
       "    <tr>\n",
       "      <th rowspan=\"4\" valign=\"top\">Dream</th>\n",
       "      <th rowspan=\"2\" valign=\"top\">FEMALE</th>\n",
       "      <th>Adelie</th>\n",
       "      <td>36.91</td>\n",
       "      <td>17.62</td>\n",
       "      <td>187.85</td>\n",
       "      <td>3344.44</td>\n",
       "      <td>8.91</td>\n",
       "      <td>-25.74</td>\n",
       "    </tr>\n",
       "    <tr>\n",
       "      <th>Chinstrap</th>\n",
       "      <td>46.57</td>\n",
       "      <td>17.59</td>\n",
       "      <td>191.74</td>\n",
       "      <td>3527.21</td>\n",
       "      <td>9.25</td>\n",
       "      <td>-24.57</td>\n",
       "    </tr>\n",
       "    <tr>\n",
       "      <th rowspan=\"2\" valign=\"top\">MALE</th>\n",
       "      <th>Adelie</th>\n",
       "      <td>40.07</td>\n",
       "      <td>18.84</td>\n",
       "      <td>191.93</td>\n",
       "      <td>4045.54</td>\n",
       "      <td>8.98</td>\n",
       "      <td>-25.76</td>\n",
       "    </tr>\n",
       "    <tr>\n",
       "      <th>Chinstrap</th>\n",
       "      <td>51.09</td>\n",
       "      <td>19.25</td>\n",
       "      <td>199.91</td>\n",
       "      <td>3938.97</td>\n",
       "      <td>9.46</td>\n",
       "      <td>-24.53</td>\n",
       "    </tr>\n",
       "    <tr>\n",
       "      <th rowspan=\"2\" valign=\"top\">Torgersen</th>\n",
       "      <th>FEMALE</th>\n",
       "      <th>Adelie</th>\n",
       "      <td>37.55</td>\n",
       "      <td>17.55</td>\n",
       "      <td>188.29</td>\n",
       "      <td>3395.83</td>\n",
       "      <td>8.66</td>\n",
       "      <td>-25.74</td>\n",
       "    </tr>\n",
       "    <tr>\n",
       "      <th>MALE</th>\n",
       "      <th>Adelie</th>\n",
       "      <td>40.59</td>\n",
       "      <td>19.39</td>\n",
       "      <td>194.91</td>\n",
       "      <td>4034.78</td>\n",
       "      <td>8.92</td>\n",
       "      <td>-25.84</td>\n",
       "    </tr>\n",
       "  </tbody>\n",
       "</table>\n",
       "</div>"
      ],
      "text/plain": [
       "                            Culmen Length (mm)  Culmen Depth (mm)  \\\n",
       "Island    Sex    Species                                            \n",
       "Biscoe    FEMALE Adelie                  37.36              17.70   \n",
       "                 Gentoo                  45.56              14.24   \n",
       "          MALE   Adelie                  40.59              19.04   \n",
       "                 Gentoo                  49.47              15.72   \n",
       "Dream     FEMALE Adelie                  36.91              17.62   \n",
       "                 Chinstrap               46.57              17.59   \n",
       "          MALE   Adelie                  40.07              18.84   \n",
       "                 Chinstrap               51.09              19.25   \n",
       "Torgersen FEMALE Adelie                  37.55              17.55   \n",
       "          MALE   Adelie                  40.59              19.39   \n",
       "\n",
       "                            Flipper Length (mm)  Body Mass (g)  \\\n",
       "Island    Sex    Species                                         \n",
       "Biscoe    FEMALE Adelie                  187.18        3369.32   \n",
       "                 Gentoo                  212.71        4679.74   \n",
       "          MALE   Adelie                  190.41        4050.00   \n",
       "                 Gentoo                  221.54        5484.84   \n",
       "Dream     FEMALE Adelie                  187.85        3344.44   \n",
       "                 Chinstrap               191.74        3527.21   \n",
       "          MALE   Adelie                  191.93        4045.54   \n",
       "                 Chinstrap               199.91        3938.97   \n",
       "Torgersen FEMALE Adelie                  188.29        3395.83   \n",
       "          MALE   Adelie                  194.91        4034.78   \n",
       "\n",
       "                            Delta 15 N (o/oo)  Delta 13 C (o/oo)  \n",
       "Island    Sex    Species                                          \n",
       "Biscoe    FEMALE Adelie                  8.77             -25.92  \n",
       "                 Gentoo                  8.19             -26.20  \n",
       "          MALE   Adelie                  8.87             -25.92  \n",
       "                 Gentoo                  8.30             -26.17  \n",
       "Dream     FEMALE Adelie                  8.91             -25.74  \n",
       "                 Chinstrap               9.25             -24.57  \n",
       "          MALE   Adelie                  8.98             -25.76  \n",
       "                 Chinstrap               9.46             -24.53  \n",
       "Torgersen FEMALE Adelie                  8.66             -25.74  \n",
       "          MALE   Adelie                  8.92             -25.84  "
      ]
     },
     "execution_count": 7,
     "metadata": {},
     "output_type": "execute_result"
    }
   ],
   "source": [
    "penguin_summary_table([\"Island\",\"Sex\",\"Species\"], \n",
    "                      [\"Culmen Length (mm)\",\"Culmen Depth (mm)\",\n",
    "                        \"Flipper Length (mm)\", \"Body Mass (g)\",\n",
    "                       \"Delta 15 N (o/oo)\",\"Delta 13 C (o/oo)\"])"
   ]
  },
  {
   "cell_type": "markdown",
   "metadata": {},
   "source": [
    "From the table above, we can see that for all penguins with different species, sexes and Islands, their data for Delta 15, Delta 13, and Flipper Length seem to be similar. Thus we can get rid of these three columns to prevent overfitting brought by including the random noises."
   ]
  },
  {
   "cell_type": "markdown",
   "metadata": {},
   "source": [
    "### Table with helpful columns"
   ]
  },
  {
   "cell_type": "code",
   "execution_count": 8,
   "metadata": {
    "scrolled": true
   },
   "outputs": [
    {
     "data": {
      "text/html": [
       "<div>\n",
       "<style scoped>\n",
       "    .dataframe tbody tr th:only-of-type {\n",
       "        vertical-align: middle;\n",
       "    }\n",
       "\n",
       "    .dataframe tbody tr th {\n",
       "        vertical-align: top;\n",
       "    }\n",
       "\n",
       "    .dataframe thead th {\n",
       "        text-align: right;\n",
       "    }\n",
       "</style>\n",
       "<table border=\"1\" class=\"dataframe\">\n",
       "  <thead>\n",
       "    <tr style=\"text-align: right;\">\n",
       "      <th></th>\n",
       "      <th></th>\n",
       "      <th></th>\n",
       "      <th>Culmen Length (mm)</th>\n",
       "      <th>Culmen Depth (mm)</th>\n",
       "      <th>Body Mass (g)</th>\n",
       "    </tr>\n",
       "    <tr>\n",
       "      <th>Island</th>\n",
       "      <th>Species</th>\n",
       "      <th>Sex</th>\n",
       "      <th></th>\n",
       "      <th></th>\n",
       "      <th></th>\n",
       "    </tr>\n",
       "  </thead>\n",
       "  <tbody>\n",
       "    <tr>\n",
       "      <th rowspan=\"4\" valign=\"top\">Biscoe</th>\n",
       "      <th rowspan=\"2\" valign=\"top\">Adelie</th>\n",
       "      <th>FEMALE</th>\n",
       "      <td>37.36</td>\n",
       "      <td>17.70</td>\n",
       "      <td>3369.32</td>\n",
       "    </tr>\n",
       "    <tr>\n",
       "      <th>MALE</th>\n",
       "      <td>40.59</td>\n",
       "      <td>19.04</td>\n",
       "      <td>4050.00</td>\n",
       "    </tr>\n",
       "    <tr>\n",
       "      <th rowspan=\"2\" valign=\"top\">Gentoo</th>\n",
       "      <th>FEMALE</th>\n",
       "      <td>45.56</td>\n",
       "      <td>14.24</td>\n",
       "      <td>4679.74</td>\n",
       "    </tr>\n",
       "    <tr>\n",
       "      <th>MALE</th>\n",
       "      <td>49.47</td>\n",
       "      <td>15.72</td>\n",
       "      <td>5484.84</td>\n",
       "    </tr>\n",
       "    <tr>\n",
       "      <th rowspan=\"4\" valign=\"top\">Dream</th>\n",
       "      <th rowspan=\"2\" valign=\"top\">Adelie</th>\n",
       "      <th>FEMALE</th>\n",
       "      <td>36.91</td>\n",
       "      <td>17.62</td>\n",
       "      <td>3344.44</td>\n",
       "    </tr>\n",
       "    <tr>\n",
       "      <th>MALE</th>\n",
       "      <td>40.07</td>\n",
       "      <td>18.84</td>\n",
       "      <td>4045.54</td>\n",
       "    </tr>\n",
       "    <tr>\n",
       "      <th rowspan=\"2\" valign=\"top\">Chinstrap</th>\n",
       "      <th>FEMALE</th>\n",
       "      <td>46.57</td>\n",
       "      <td>17.59</td>\n",
       "      <td>3527.21</td>\n",
       "    </tr>\n",
       "    <tr>\n",
       "      <th>MALE</th>\n",
       "      <td>51.09</td>\n",
       "      <td>19.25</td>\n",
       "      <td>3938.97</td>\n",
       "    </tr>\n",
       "    <tr>\n",
       "      <th rowspan=\"2\" valign=\"top\">Torgersen</th>\n",
       "      <th rowspan=\"2\" valign=\"top\">Adelie</th>\n",
       "      <th>FEMALE</th>\n",
       "      <td>37.55</td>\n",
       "      <td>17.55</td>\n",
       "      <td>3395.83</td>\n",
       "    </tr>\n",
       "    <tr>\n",
       "      <th>MALE</th>\n",
       "      <td>40.59</td>\n",
       "      <td>19.39</td>\n",
       "      <td>4034.78</td>\n",
       "    </tr>\n",
       "  </tbody>\n",
       "</table>\n",
       "</div>"
      ],
      "text/plain": [
       "                            Culmen Length (mm)  Culmen Depth (mm)  \\\n",
       "Island    Species   Sex                                             \n",
       "Biscoe    Adelie    FEMALE               37.36              17.70   \n",
       "                    MALE                 40.59              19.04   \n",
       "          Gentoo    FEMALE               45.56              14.24   \n",
       "                    MALE                 49.47              15.72   \n",
       "Dream     Adelie    FEMALE               36.91              17.62   \n",
       "                    MALE                 40.07              18.84   \n",
       "          Chinstrap FEMALE               46.57              17.59   \n",
       "                    MALE                 51.09              19.25   \n",
       "Torgersen Adelie    FEMALE               37.55              17.55   \n",
       "                    MALE                 40.59              19.39   \n",
       "\n",
       "                            Body Mass (g)  \n",
       "Island    Species   Sex                    \n",
       "Biscoe    Adelie    FEMALE        3369.32  \n",
       "                    MALE          4050.00  \n",
       "          Gentoo    FEMALE        4679.74  \n",
       "                    MALE          5484.84  \n",
       "Dream     Adelie    FEMALE        3344.44  \n",
       "                    MALE          4045.54  \n",
       "          Chinstrap FEMALE        3527.21  \n",
       "                    MALE          3938.97  \n",
       "Torgersen Adelie    FEMALE        3395.83  \n",
       "                    MALE          4034.78  "
      ]
     },
     "execution_count": 8,
     "metadata": {},
     "output_type": "execute_result"
    }
   ],
   "source": [
    "# Improved Table\n",
    "penguin_summary_table([\"Island\",\"Species\",\"Sex\"], \n",
    "                      [\"Culmen Length (mm)\",\"Culmen Depth (mm)\",\n",
    "                       \"Body Mass (g)\"])\n"
   ]
  },
  {
   "cell_type": "markdown",
   "metadata": {},
   "source": [
    "Through \"Eye-balling\", we first get the table above with Island, Sex, Culmen Length, Culmen Depth, and Body Mass as the most helpful variables that can help determine the species. We will use systematic feature selection later in the Modeling section to continue exploring the useful features for specific models."
   ]
  },
  {
   "cell_type": "markdown",
   "metadata": {},
   "source": [
    "## §3. ML Modeling"
   ]
  },
  {
   "cell_type": "markdown",
   "metadata": {},
   "source": [
    "In this section, we will use __1.Decision Tree__, __2.Multinomial Logistic Regression__, and __3.K-Nearest-Neighbor Classifiers__ as our models for data analysis."
   ]
  },
  {
   "cell_type": "markdown",
   "metadata": {},
   "source": [
    "For our Machine Learning Model, we first need to split our penguins data into __training__ and __test sets__. Here we get 80% of the data to be our training data set that will be useful for our model training and the remaining 20% to be the testing data set."
   ]
  },
  {
   "cell_type": "code",
   "execution_count": 9,
   "metadata": {},
   "outputs": [
    {
     "data": {
      "text/plain": [
       "((266, 17), (67, 17))"
      ]
     },
     "execution_count": 9,
     "metadata": {},
     "output_type": "execute_result"
    }
   ],
   "source": [
    "train,test=train_test_split(penguins,test_size=.2)\n",
    "train.shape,test.shape"
   ]
  },
  {
   "cell_type": "markdown",
   "metadata": {},
   "source": [
    "### Data Cleaning\n",
    "For data cleaning and other preparation, we wrote a function `prep_penguins_data` to drop several columns of data that we have considered to be not helpful to our training indicated in our previous Exploratory Analysis. Also, we drop the rows with missing information to prevent running in any issues with our data.\n"
   ]
  },
  {
   "cell_type": "code",
   "execution_count": 10,
   "metadata": {},
   "outputs": [],
   "source": [
    "def prep_penguins_data(data_df):\n",
    "    '''\n",
    "    This function is to prepare and clean the predictor and target datasets \n",
    "    to help our machine-learning models with interpreting the data. \n",
    "    It will return valid predictor dataset X and target dataset y in machine-\n",
    "    readable number formats.\n",
    "\n",
    "    '''\n",
    "    df = data_df.copy() #create a copy of the input data\n",
    "    #drop uncessary columns based on previous exploratory analysis\n",
    "    df=df.drop([\"studyName\",\"Sample Number\",\"Individual ID\",\"Comments\",\n",
    "                \"Region\",\"Stage\",\"Date Egg\",\"Clutch Completion\"],axis=1)\n",
    "    df=df.dropna() #get rid of missing data\n",
    "    \n",
    "    le = preprocessing.LabelEncoder() \n",
    "    #transform text data into machine readable numbers\n",
    "    df['Sex'] = le.fit_transform(df['Sex'])\n",
    "    df['Species']=le.fit_transform(df['Species'])\n",
    "    df['Island']=le.fit_transform(df['Island'])\n",
    "    \n",
    "    #Set predictor variables X and target variable y\n",
    "    X = df.drop([\"Species\"], axis = 1)\n",
    "    y = df[\"Species\"]\n",
    "        \n",
    "    return(X, y)\n"
   ]
  },
  {
   "cell_type": "markdown",
   "metadata": {},
   "source": [
    "Next, in order to predict the species of the penguins given our datasets, we need to split the data into the \"predictor\" and \"target\" variables."
   ]
  },
  {
   "cell_type": "code",
   "execution_count": 11,
   "metadata": {},
   "outputs": [],
   "source": [
    "#preparing train and test datasets\n",
    "X_train, y_train = prep_penguins_data(train)\n",
    "X_test,  y_test  = prep_penguins_data(test)"
   ]
  },
  {
   "cell_type": "markdown",
   "metadata": {},
   "source": [
    "### Feature Selection Function"
   ]
  },
  {
   "cell_type": "markdown",
   "metadata": {},
   "source": [
    "In our previous Exploratory Analysis, we have discovered a few columns that might be useful in predicting the species of the penguins. Here we put the potential columns such as Culmen Length (mm), Culmen Depth (mm), Sex, Island, Body Mass (g) in different combinations with each other into a list called combos.\n",
    "\n",
    "Since the Cross-Validation applies unseen data to the model, it could accurately and fairly evaluate the performance of the model. By using __K-fold Cross-Validation__, we repeatly assign different data into our test set to evaluate our model. We then wrote a function which uses __cross-validation__ to find the best combination of the columns that has the highest __cross-validation__ score."
   ]
  },
  {
   "cell_type": "code",
   "execution_count": 12,
   "metadata": {},
   "outputs": [],
   "source": [
    "def check_column_score(model):\n",
    "    \"\"\"\n",
    "    Trains and evaluates the model via cross-validation on the different combos\n",
    "    of columns\n",
    "    ------------\n",
    "    Input:\n",
    "    model - the classifier we use\n",
    "    ------------\n",
    "    Output:\n",
    "    best_com - the best combo of features\n",
    "    \"\"\"\n",
    "    #different combinations of features\n",
    "    combos = [['Culmen Length (mm)', 'Culmen Depth (mm)', 'Sex'],\n",
    "          ['Sex', 'Culmen Length (mm)', 'Body Mass (g)'],\n",
    "          ['Island', 'Body Mass (g)','Culmen Length (mm)'],\n",
    "          ['Body Mass (g)', 'Culmen Length (mm)', 'Culmen Depth (mm)'],\n",
    "              ['Sex', 'Island', 'Body Mass (g)'],\n",
    "          ['Sex', 'Island', 'Culmen Depth (mm)'],\n",
    "             ['Body Mass (g)','Culmen Depth (mm)','Sex']]\n",
    "    \n",
    "    best_score=0 #initialize best_score to be 0\n",
    "    #loop through all the combinations\n",
    "    for combo in combos:\n",
    "        x=cross_val_score(model,X_train[combo],y_train,cv=5).mean()\n",
    "        x=np.round(x,3)\n",
    "        print(\"CV score is \"+str(x))\n",
    "        print(\"training with columns\"+str(combo))\n",
    "        \n",
    "        #update the best_score\n",
    "        if x > best_score:\n",
    "            best_com = combo\n",
    "            best_score = x\n",
    "        \n",
    "    return best_com"
   ]
  },
  {
   "cell_type": "markdown",
   "metadata": {},
   "source": [
    "## Model 1: Decision Tree "
   ]
  },
  {
   "cell_type": "markdown",
   "metadata": {},
   "source": [
    "Let's start with our first model - Decision Tree. The Decision Tree model is a supervised learning method used for classification and regression. It analyzes data and create a set of simple decision rules to predict the value of a target variable."
   ]
  },
  {
   "cell_type": "code",
   "execution_count": 13,
   "metadata": {},
   "outputs": [],
   "source": [
    "T=tree.DecisionTreeClassifier(max_depth=3)#set decision tree model"
   ]
  },
  {
   "cell_type": "markdown",
   "metadata": {},
   "source": [
    "### Feature Selection"
   ]
  },
  {
   "cell_type": "markdown",
   "metadata": {},
   "source": [
    "Here, we will call our pre-written ___check_column_score___ function to do our feature selection in a systematic way. We will test the performance of potential groups of predicators and select the best group with the highest ___cross-validation score___ for our Decision Tree model."
   ]
  },
  {
   "cell_type": "code",
   "execution_count": 14,
   "metadata": {
    "scrolled": false
   },
   "outputs": [
    {
     "name": "stdout",
     "output_type": "stream",
     "text": [
      "CV score is 0.935\n",
      "training with columns['Culmen Length (mm)', 'Culmen Depth (mm)', 'Sex']\n",
      "CV score is 0.9\n",
      "training with columns['Sex', 'Culmen Length (mm)', 'Body Mass (g)']\n",
      "CV score is 0.969\n",
      "training with columns['Island', 'Body Mass (g)', 'Culmen Length (mm)']\n",
      "CV score is 0.958\n",
      "training with columns['Body Mass (g)', 'Culmen Length (mm)', 'Culmen Depth (mm)']\n",
      "CV score is 0.781\n",
      "training with columns['Sex', 'Island', 'Body Mass (g)']\n",
      "CV score is 0.796\n",
      "training with columns['Sex', 'Island', 'Culmen Depth (mm)']\n",
      "CV score is 0.781\n",
      "training with columns['Body Mass (g)', 'Culmen Depth (mm)', 'Sex']\n"
     ]
    }
   ],
   "source": [
    "best_combo=check_column_score(T) #check cv scores for all the groups"
   ]
  },
  {
   "cell_type": "markdown",
   "metadata": {},
   "source": [
    "According to the results shown above, our best combination of predicators with the highest cv_score 0.969 is _Island_, _Body Mass (g)_, and _Culmen Length (mm)_. We will use this group to continue training our model."
   ]
  },
  {
   "cell_type": "code",
   "execution_count": 15,
   "metadata": {
    "scrolled": true
   },
   "outputs": [
    {
     "data": {
      "text/plain": [
       "DecisionTreeClassifier(max_depth=3)"
      ]
     },
     "execution_count": 15,
     "metadata": {},
     "output_type": "execute_result"
    }
   ],
   "source": [
    "X_train1=X_train[best_combo] #Set training data with the best combo\n",
    "X_test1=X_test[best_combo] #Set test data with the best combo\n",
    "T.fit(X_train1,y_train) #fit the model"
   ]
  },
  {
   "cell_type": "markdown",
   "metadata": {},
   "source": [
    "### Determine Model Complexity"
   ]
  },
  {
   "cell_type": "markdown",
   "metadata": {},
   "source": [
    "Next, to find the optimal complexity parameter `max_depth` that will be used in our model, we employed the ___cross-validation___ method in order to choose the best `max_depth` with the highest cross-validation score."
   ]
  },
  {
   "cell_type": "code",
   "execution_count": 16,
   "metadata": {
    "scrolled": true
   },
   "outputs": [
    {
     "name": "stdout",
     "output_type": "stream",
     "text": [
      "0.9692307692307691 3\n"
     ]
    },
    {
     "data": {
      "image/png": "[encoded data removed]",
      "text/plain": [
       "<Figure size 432x288 with 1 Axes>"
      ]
     },
     "metadata": {
      "needs_background": "light"
     },
     "output_type": "display_data"
    }
   ],
   "source": [
    "best_score, best_para = 0, 0 \n",
    "fig,ax=plt.subplots(1)\n",
    "# loop through different complexity parameter n_neighbors\n",
    "for d in range(1, 30):\n",
    "    T = tree.DecisionTreeClassifier(max_depth=d) # initialize the KNN Model\n",
    "    \n",
    "    # compute mean of cv score\n",
    "    cv_score = cross_val_score(T, X_train1, y_train, cv = 5).mean() \n",
    "    ax.scatter(d, cv_score, color = \"blue\") # plot this point on the graph\n",
    "    \n",
    "    \n",
    "    # if the current cv score is greater than best_score, update best_score\n",
    "    if cv_score > best_score:\n",
    "        best_para = d\n",
    "        best_score = cv_score\n",
    "\n",
    "#Visualize the parameters and corresponding cv scores      \n",
    "ax.scatter(best_para, best_score, color = \"red\") #shown the best one in red\n",
    "print(best_score, best_para)\n"
   ]
  },
  {
   "cell_type": "markdown",
   "metadata": {},
   "source": [
    "From our graph and score shown above, we get our best `max_depth` of 3 with a cross-validation score of 0.969. We will then use this parameter for training our Decision Tree model."
   ]
  },
  {
   "cell_type": "markdown",
   "metadata": {},
   "source": [
    "### Evaluate Model on the Test Data"
   ]
  },
  {
   "cell_type": "code",
   "execution_count": 17,
   "metadata": {
    "scrolled": true
   },
   "outputs": [
    {
     "data": {
      "text/plain": [
       "0.953125"
      ]
     },
     "execution_count": 17,
     "metadata": {},
     "output_type": "execute_result"
    }
   ],
   "source": [
    "#establish our model with the best parameter\n",
    "T=tree.DecisionTreeClassifier(max_depth=best_para) \n",
    "T.fit(X_train1,y_train) #fit model with training data\n",
    "T.score(X_test1,y_test) #score model on the test data"
   ]
  },
  {
   "cell_type": "markdown",
   "metadata": {},
   "source": [
    "Here we get a score of around 0.953. This is a pretty good result showing that our Decision Tree model is able to predict most of the species correctly. This score is slightly lower but not significantly lower than that of the training data, showing that there might be no overfitting occurred in our model."
   ]
  },
  {
   "cell_type": "markdown",
   "metadata": {},
   "source": [
    "Next, let's Visualize our decision tree using the `plot_tree` function:"
   ]
  },
  {
   "cell_type": "code",
   "execution_count": 22,
   "metadata": {
    "scrolled": false
   },
   "outputs": [
    {
     "data": {
      "image/png": "[encoded data removed]",
      "text/plain": [
       "<Figure size 1440x864 with 1 Axes>"
      ]
     },
     "metadata": {
      "needs_background": "light"
     },
     "output_type": "display_data"
    }
   ],
   "source": [
    "fig,ax=plt.subplots(1,figsize=(20,12)) #create an empty plot\n",
    "graph=tree.plot_tree(T,filled=True, feature_names=X_test1.columns, fontsize=14)"
   ]
  },
  {
   "cell_type": "markdown",
   "metadata": {},
   "source": [
    "The graph above shows the pathways that our model will take to make certain decisions. We can see that it will first check if Culmen Length is <= to 42.35mm. If the Culmen Length satisfies the condition, it will then check if its Body Mass is <= to 4562.5. Otherwise, it will check if the Island is <= 0.5. In this case, our model will check the conditions in the box and choose its pathways following the arrows. In the end, our model will make its final predictions of the penguin species based on the multiple criteria shown in the boxes."
   ]
  },
  {
   "cell_type": "markdown",
   "metadata": {},
   "source": [
    "### Inspecting Errors"
   ]
  },
  {
   "cell_type": "markdown",
   "metadata": {},
   "source": [
    "Next, we will inspect some of the wrong predictions of the testing data results by using a confusion matrix."
   ]
  },
  {
   "cell_type": "code",
   "execution_count": 24,
   "metadata": {
    "scrolled": true
   },
   "outputs": [
    {
     "data": {
      "text/plain": [
       "array([[24,  0,  3],\n",
       "       [ 0, 10,  0],\n",
       "       [ 0,  0, 27]], dtype=int64)"
      ]
     },
     "execution_count": 24,
     "metadata": {},
     "output_type": "execute_result"
    }
   ],
   "source": [
    "y_test_pred=T.predict(X_test1) #create a variable to store the predictions\n",
    "c=confusion_matrix(y_test,y_test_pred) #plot the confusion matrix\n",
    "c"
   ]
  },
  {
   "cell_type": "markdown",
   "metadata": {},
   "source": [
    "The __i, j__th entry of the confusion matrix array above gives the number of times that the model predicted specie j when the true specie was actually i.\n",
    "\n",
    "Thus each row of the array represents the actual Species of penguins, where row 1 is an Adelie, 2 is a Chinstrap, and 3 is a Gentoo. Each columns represents the predicted Species of penguins, where columns 1, 2, 3 indicates Species with the same order above.\n",
    "\n",
    "From the confusion matrix, we could see that large numbers are on the diagonal and this indicates the model is usually right. However, the [0,2]th entry is 3. This number corresponds to the false predictions shown above: 3 specie-0 penguins(Adelie) were falsely predicted as specie-2 penguins(Gentoo).\n",
    "\n",
    "Let's take a look at some of these cases using Boolean indexing:"
   ]
  },
  {
   "cell_type": "code",
   "execution_count": 25,
   "metadata": {},
   "outputs": [
    {
     "data": {
      "text/plain": [
       "(array([2, 2, 2]),\n",
       " 111    0\n",
       " 115    0\n",
       " 109    0\n",
       " Name: Species, dtype: int32)"
      ]
     },
     "execution_count": 25,
     "metadata": {},
     "output_type": "execute_result"
    }
   ],
   "source": [
    "mask=y_test!=y_test_pred #filter all wrong predictions\n",
    "\n",
    "#wrong result's predictor\n",
    "mistakes=X_test1[mask][[\"Culmen Length (mm)\",\"Island\",\"Body Mass (g)\"]]  \n",
    "\n",
    "mistake_preds=y_test_pred[mask] #wrong result\n",
    "true_specie=y_test[mask] #actural result\n",
    "\n",
    "mistake_preds,true_specie #print wrong result vs actural result"
   ]
  },
  {
   "cell_type": "markdown",
   "metadata": {},
   "source": [
    "Here we can see the specific entries that were falsely predicted. Let's reframe the data in a clearer table to figure out why our model was \"tricked\"."
   ]
  },
  {
   "cell_type": "code",
   "execution_count": 26,
   "metadata": {},
   "outputs": [
    {
     "data": {
      "text/html": [
       "<div>\n",
       "<style scoped>\n",
       "    .dataframe tbody tr th:only-of-type {\n",
       "        vertical-align: middle;\n",
       "    }\n",
       "\n",
       "    .dataframe tbody tr th {\n",
       "        vertical-align: top;\n",
       "    }\n",
       "\n",
       "    .dataframe thead th {\n",
       "        text-align: right;\n",
       "    }\n",
       "</style>\n",
       "<table border=\"1\" class=\"dataframe\">\n",
       "  <thead>\n",
       "    <tr style=\"text-align: right;\">\n",
       "      <th></th>\n",
       "      <th>True Species</th>\n",
       "      <th>Wrong Prediction</th>\n",
       "      <th>Culmen Length (mm)</th>\n",
       "      <th>Island</th>\n",
       "      <th>Body Mass (g)</th>\n",
       "    </tr>\n",
       "  </thead>\n",
       "  <tbody>\n",
       "    <tr>\n",
       "      <th>111</th>\n",
       "      <td>Adelie</td>\n",
       "      <td>Gentoo</td>\n",
       "      <td>45.6</td>\n",
       "      <td>Biscoe</td>\n",
       "      <td>4600.0</td>\n",
       "    </tr>\n",
       "    <tr>\n",
       "      <th>115</th>\n",
       "      <td>Adelie</td>\n",
       "      <td>Gentoo</td>\n",
       "      <td>42.7</td>\n",
       "      <td>Biscoe</td>\n",
       "      <td>4075.0</td>\n",
       "    </tr>\n",
       "    <tr>\n",
       "      <th>109</th>\n",
       "      <td>Adelie</td>\n",
       "      <td>Gentoo</td>\n",
       "      <td>43.2</td>\n",
       "      <td>Biscoe</td>\n",
       "      <td>4775.0</td>\n",
       "    </tr>\n",
       "  </tbody>\n",
       "</table>\n",
       "</div>"
      ],
      "text/plain": [
       "    True Species Wrong Prediction  Culmen Length (mm)  Island  Body Mass (g)\n",
       "111       Adelie           Gentoo                45.6  Biscoe         4600.0\n",
       "115       Adelie           Gentoo                42.7  Biscoe         4075.0\n",
       "109       Adelie           Gentoo                43.2  Biscoe         4775.0"
      ]
     },
     "execution_count": 26,
     "metadata": {},
     "output_type": "execute_result"
    }
   ],
   "source": [
    "mistake_df=pd.DataFrame({\"True Species\":true_specie,\"Wrong Prediction\":mistake_preds})\n",
    "mistake_table=pd.concat((mistake_df,mistakes),axis=1)\n",
    "\n",
    "#Match numbers to text information\n",
    "decode={0:'Adelie',1:'Chinstrap',2:'Gentoo'}\n",
    "decode1={0:'Biscoe',1:'Dream',2:'Torgersen'}\n",
    "\n",
    "#show readable text format to readers\n",
    "mistake_table[\"True Species\"]=mistake_table[\"True Species\"].map(decode)\n",
    "mistake_table[\"Wrong Prediction\"]=mistake_table[\"Wrong Prediction\"].map(decode)\n",
    "mistake_table[\"Island\"]=mistake_table[\"Island\"].map(decode1)\n",
    "\n",
    "mistake_table"
   ]
  },
  {
   "cell_type": "markdown",
   "metadata": {},
   "source": [
    "Now let's see the variable means of the three species. "
   ]
  },
  {
   "cell_type": "code",
   "execution_count": 55,
   "metadata": {},
   "outputs": [
    {
     "data": {
      "text/html": [
       "<div>\n",
       "<style scoped>\n",
       "    .dataframe tbody tr th:only-of-type {\n",
       "        vertical-align: middle;\n",
       "    }\n",
       "\n",
       "    .dataframe tbody tr th {\n",
       "        vertical-align: top;\n",
       "    }\n",
       "\n",
       "    .dataframe thead th {\n",
       "        text-align: right;\n",
       "    }\n",
       "</style>\n",
       "<table border=\"1\" class=\"dataframe\">\n",
       "  <thead>\n",
       "    <tr style=\"text-align: right;\">\n",
       "      <th></th>\n",
       "      <th></th>\n",
       "      <th>Culmen Length (mm)</th>\n",
       "      <th>Body Mass (g)</th>\n",
       "    </tr>\n",
       "    <tr>\n",
       "      <th>Species</th>\n",
       "      <th>Island</th>\n",
       "      <th></th>\n",
       "      <th></th>\n",
       "    </tr>\n",
       "  </thead>\n",
       "  <tbody>\n",
       "    <tr>\n",
       "      <th rowspan=\"3\" valign=\"top\">Adelie</th>\n",
       "      <th>Biscoe</th>\n",
       "      <td>39.002941</td>\n",
       "      <td>3648.529412</td>\n",
       "    </tr>\n",
       "    <tr>\n",
       "      <th>Dream</th>\n",
       "      <td>38.676087</td>\n",
       "      <td>3723.913043</td>\n",
       "    </tr>\n",
       "    <tr>\n",
       "      <th>Torgersen</th>\n",
       "      <td>39.294737</td>\n",
       "      <td>3713.815789</td>\n",
       "    </tr>\n",
       "    <tr>\n",
       "      <th>Chinstrap</th>\n",
       "      <th>Dream</th>\n",
       "      <td>48.752632</td>\n",
       "      <td>3714.912281</td>\n",
       "    </tr>\n",
       "    <tr>\n",
       "      <th>Gentoo</th>\n",
       "      <th>Biscoe</th>\n",
       "      <td>47.590110</td>\n",
       "      <td>5115.934066</td>\n",
       "    </tr>\n",
       "  </tbody>\n",
       "</table>\n",
       "</div>"
      ],
      "text/plain": [
       "                     Culmen Length (mm)  Body Mass (g)\n",
       "Species   Island                                      \n",
       "Adelie    Biscoe              39.002941    3648.529412\n",
       "          Dream               38.676087    3723.913043\n",
       "          Torgersen           39.294737    3713.815789\n",
       "Chinstrap Dream               48.752632    3714.912281\n",
       "Gentoo    Biscoe              47.590110    5115.934066"
      ]
     },
     "execution_count": 55,
     "metadata": {},
     "output_type": "execute_result"
    }
   ],
   "source": [
    "train.groupby([\"Species\",\"Island\"])[[\"Culmen Length (mm)\",\"Body Mass (g)\"]].mean()"
   ]
  },
  {
   "cell_type": "markdown",
   "metadata": {},
   "source": [
    "Compare the variable values of the falsely predicted data with the variable means above, we can see that some penguins have values of Culmen Length, Culmen Depth that are similar to those of other species. \n",
    "\n",
    "For example, penguin 111 is a Adelie penguin living on Biscoe island. However, it has Culmen Length of 45.60mm, which is closer to 47.59mm (Gentoo penguins living on Biscoe island) rather than the Culmen Length of the species that it belongs to. In this case, our model falsely predicted it as a Gentoo penguin."
   ]
  },
  {
   "cell_type": "markdown",
   "metadata": {},
   "source": [
    "## Model 2: Multinomial Logistic Regression"
   ]
  },
  {
   "cell_type": "markdown",
   "metadata": {},
   "source": [
    "For our second model, we will use Multinomial Logistic Regression. The model is an extension of the binary logistic regression. It uses maximum likelihood estimation to evaluate the probability of categorical membership for more than two categories of the dependent or outcome variable.\n",
    "\n",
    "We set 'max_iter' to 500 to avoid error and keep rest of parameters as default. By using the same method above (call function `check_column_score`), we select the best combo of predictors that gives us the best cross-validation score."
   ]
  },
  {
   "cell_type": "code",
   "execution_count": 29,
   "metadata": {
    "scrolled": true
   },
   "outputs": [
    {
     "name": "stdout",
     "output_type": "stream",
     "text": [
      "CV score is 0.988\n",
      "training with columns['Culmen Length (mm)', 'Culmen Depth (mm)', 'Sex']\n",
      "CV score is 0.965\n",
      "training with columns['Sex', 'Culmen Length (mm)', 'Body Mass (g)']\n",
      "CV score is 0.962\n",
      "training with columns['Island', 'Body Mass (g)', 'Culmen Length (mm)']\n",
      "CV score is 0.988\n",
      "training with columns['Body Mass (g)', 'Culmen Length (mm)', 'Culmen Depth (mm)']\n",
      "CV score is 0.685\n",
      "training with columns['Sex', 'Island', 'Body Mass (g)']\n",
      "CV score is 0.765\n",
      "training with columns['Sex', 'Island', 'Culmen Depth (mm)']\n",
      "CV score is 0.781\n",
      "training with columns['Body Mass (g)', 'Culmen Depth (mm)', 'Sex']\n"
     ]
    }
   ],
   "source": [
    "LR=LogisticRegression(max_iter=1000,multi_class='multinomial', solver='lbfgs')\n",
    "best_combo=check_column_score(LR)"
   ]
  },
  {
   "cell_type": "markdown",
   "metadata": {},
   "source": [
    "There are two combos achieve the same cv score 0.988 and we decide to choose the best_combo as `['Culmen Length (mm)', 'Culmen Depth (mm)', 'Sex']`\n",
    "\n",
    "Before tune the parameter in model, we modify our training data according to the feature we have selected."
   ]
  },
  {
   "cell_type": "code",
   "execution_count": 30,
   "metadata": {},
   "outputs": [],
   "source": [
    "X_train2=X_train[best_combo]\n",
    "X_test2=X_test[best_combo]"
   ]
  },
  {
   "cell_type": "markdown",
   "metadata": {},
   "source": [
    "The C parameter controls the regularization (penality) strength and smaller values specify stronger regularization. Since it must be a positive float, we try different C from 0.01 to 100."
   ]
  },
  {
   "cell_type": "code",
   "execution_count": 31,
   "metadata": {
    "scrolled": true
   },
   "outputs": [
    {
     "name": "stdout",
     "output_type": "stream",
     "text": [
      "0.9884615384615385 1\n"
     ]
    },
    {
     "data": {
      "image/png": "[encoded data removed]",
      "text/plain": [
       "<Figure size 432x288 with 1 Axes>"
      ]
     },
     "metadata": {
      "needs_background": "light"
     },
     "output_type": "display_data"
    }
   ],
   "source": [
    "best_score, best_para = 0, 0 \n",
    "fig,ax=plt.subplots(1)\n",
    "# loop through different complexity parameter C\n",
    "for d in [0.01,0.1,1,10,100]:\n",
    "    # initialize the Multonomial Logistics Regression Model\n",
    "    LR = LogisticRegression(C=d,max_iter=5000,multi_class='multinomial')\n",
    "    \n",
    "    # compute mean of cv score\n",
    "    cv_score = cross_val_score(LR, X_train2, y_train, cv = 5).mean() \n",
    "    ax.scatter(d, cv_score, color = \"blue\") # plot this point on the graph\n",
    "    \n",
    "    \n",
    "    # if the current cv score is greater than best_score, update best_score\n",
    "    if cv_score > best_score:\n",
    "        best_para = d\n",
    "        best_score = cv_score\n",
    "        \n",
    "ax.scatter(best_para, best_score, color = \"red\")\n",
    "print(best_score, best_para)"
   ]
  },
  {
   "cell_type": "markdown",
   "metadata": {},
   "source": [
    "By looking at the graph as well as our result for the optimal, here we get `C` = 1 to be the best complexity parameter. We then set our Multinomial Logistic Regression model using this information."
   ]
  },
  {
   "cell_type": "code",
   "execution_count": 32,
   "metadata": {
    "scrolled": true
   },
   "outputs": [
    {
     "data": {
      "text/plain": [
       "1.0"
      ]
     },
     "execution_count": 32,
     "metadata": {},
     "output_type": "execute_result"
    }
   ],
   "source": [
    "LR=LogisticRegression(C=best_para,max_iter=500,multi_class='multinomial', solver='lbfgs')\n",
    "LR.fit(X_train2,y_train)\n",
    "LR.score(X_test2,y_test)"
   ]
  },
  {
   "cell_type": "markdown",
   "metadata": {},
   "source": [
    "By evaluating our model against the unseen testing data, we gain an accuracy of 1.0, which is a very good result. It is even higher than the cv score in our train set but the difference is not super huge."
   ]
  },
  {
   "cell_type": "markdown",
   "metadata": {},
   "source": [
    "### Plot Decision Regions"
   ]
  },
  {
   "cell_type": "markdown",
   "metadata": {},
   "source": [
    "In order to better visualize our modeling predictions in a systematic way, we have written a `plot_regions` function below. We will later call this function in our individual models."
   ]
  },
  {
   "cell_type": "code",
   "execution_count": 34,
   "metadata": {},
   "outputs": [],
   "source": [
    "def plot_regions(c,X,y):\n",
    "    \"\"\"\n",
    "    Plot the decision regions of a classifer\n",
    "    c: the classifier\n",
    "    X: the data frame with all three columns of predictor variables (sex, culmen \n",
    "    length, culment depth)\n",
    "    y: the target variable which contains the column \"Species\"\n",
    "    \n",
    "    Outputs\n",
    "    -------\n",
    "    Does not return any values.\n",
    "    Plots the decision regions of the machine learning model on two sex groups.\n",
    "    \n",
    "    \"\"\"\n",
    "    \n",
    "    #create an empty plot with two subplots\n",
    "    fig, ax = plt.subplots(1,2,figsize=(10,4))\n",
    "\n",
    "    #separate X and y into two sex groups: \"_f\" represents the female group; \n",
    "    #\"_m\" represents the male group\n",
    "    mask_f=X[\"Sex\"]==0\n",
    "    X_f=X[mask_f]\n",
    "    y_f=y[mask_f]\n",
    "    mask_m=X[\"Sex\"]==1\n",
    "    X_m=X[mask_m]\n",
    "    y_m=y[mask_m]\n",
    "\n",
    "    #recode labels \n",
    "    le = preprocessing.LabelEncoder()        \n",
    "    y_f= le.fit_transform(y_f)\n",
    "    y_m= le.fit_transform(y_m)\n",
    "    \n",
    "    x0_f=X_f['Culmen Length (mm)']\n",
    "    x1_f=X_f['Culmen Depth (mm)']\n",
    "    x0_m=X_m['Culmen Length (mm)']\n",
    "    x1_m=X_m['Culmen Depth (mm)']\n",
    "    \n",
    "    #create two grids for two sexes\n",
    "    grid_x_f=np.linspace(x0_f.min(),x0_f.max(),501)\n",
    "    grid_y_f=np.linspace(x1_f.min(),x1_f.max(),501)\n",
    "    xx_f,yy_f=np.meshgrid(grid_x_f,grid_y_f) #has 501x501\n",
    "    grid_x_m=np.linspace(x0_m.min(),x0_m.max(),501)\n",
    "    grid_y_m=np.linspace(x1_m.min(),x1_m.max(),501)\n",
    "    xx_m,yy_m=np.meshgrid(grid_x_m,grid_y_m)\n",
    "    \n",
    "    #make the sex column either zeros or ones\n",
    "    male = np.zeros(251001)\n",
    "    female = np.ones(251001)\n",
    "    \n",
    "    ##this part is for famale penguins\n",
    "    #fit the female model\n",
    "    c.fit(X_f,y_f)\n",
    "    #convert columns to 1d arrays\n",
    "    XX_f=xx_f.ravel()\n",
    "    YY_f=yy_f.ravel()\n",
    "    #use model to make predictions\n",
    "    p_f=c.predict(np.c_[XX_f,YY_f,female])    \n",
    "    #reshape the prediction to a 2d array\n",
    "    p_f=p_f.reshape(xx_f.shape)\n",
    "    #plot the decision regions for female penguins, color-coded by species\n",
    "    ax[0].contourf(xx_f,yy_f,p_f,cmap=\"jet\",alpha=.2)\n",
    "    #plot the scatter plot for female penguins\n",
    "    ax[0].scatter(x0_f,x1_f,c=y_f,cmap=\"jet\")\n",
    "    \n",
    "    ##this part is for male penguins, similar to the code above\n",
    "    c.fit(X_m,y_m)\n",
    "    XX_m=xx_m.ravel()\n",
    "    YY_m=yy_m.ravel()\n",
    "    p_m=c.predict(np.c_[XX_m,YY_m,male])\n",
    "    p_m=p_m.reshape(xx_m.shape)\n",
    "    ax[1].contourf(xx_m,yy_m,p_m,cmap=\"jet\",alpha=.2)\n",
    "    ax[1].scatter(x0_m,x1_m,c=y_m,cmap=\"jet\")\n",
    "    \n",
    "    #set labels to the plots\n",
    "    ax[0].set(xlabel = \"Culmen Length (mm)\",\n",
    "           ylabel = \"Culmen Depth (mm)\",\n",
    "           title = \"Female Penguins\")\n",
    "    ax[1].set(xlabel = \"Culmen Length (mm)\",\n",
    "           ylabel = \"Culmen Depth (mm)\",\n",
    "           title = \"Male Penguins\")"
   ]
  },
  {
   "cell_type": "markdown",
   "metadata": {},
   "source": [
    "To show the predictions of our Multinomial Logistic Regression model, we use the `plot_regions` function below."
   ]
  },
  {
   "cell_type": "code",
   "execution_count": 35,
   "metadata": {},
   "outputs": [
    {
     "data": {
      "image/png": "[encoded data removed]",
      "text/plain": [
       "<Figure size 720x288 with 2 Axes>"
      ]
     },
     "metadata": {
      "needs_background": "light"
     },
     "output_type": "display_data"
    }
   ],
   "source": [
    "X,y=prep_penguins_data(penguins)\n",
    "X2=X[best_combo]\n",
    "plot_regions(LR,X2,y)"
   ]
  },
  {
   "cell_type": "markdown",
   "metadata": {},
   "source": [
    "By observing the two graphs above, we could tell that our model has a high accuracy that it has successfully predicted the species of most penguins.\n",
    "\n",
    "Some data points at boundary of decision regions is wrongly predicted. In the next section, we will inspect these errors and explore possible reasons."
   ]
  },
  {
   "cell_type": "markdown",
   "metadata": {},
   "source": [
    "### Inspecting Error"
   ]
  },
  {
   "cell_type": "markdown",
   "metadata": {},
   "source": [
    "Like we did above for our Decision Tree model, we will use a __confusion matrix__ to help us inspect the errors in our prediction."
   ]
  },
  {
   "cell_type": "code",
   "execution_count": 40,
   "metadata": {
    "scrolled": true
   },
   "outputs": [
    {
     "data": {
      "text/plain": [
       "array([[27,  0,  0],\n",
       "       [ 2,  4,  4],\n",
       "       [ 0,  0, 27]], dtype=int64)"
      ]
     },
     "execution_count": 40,
     "metadata": {},
     "output_type": "execute_result"
    }
   ],
   "source": [
    "y_test_pred=LR.predict(X_test2) \n",
    "\n",
    "from sklearn.metrics import confusion_matrix\n",
    "c=confusion_matrix(y_test,y_test_pred)\n",
    "c"
   ]
  },
  {
   "cell_type": "markdown",
   "metadata": {},
   "source": [
    "In the [1,0]th and [1,2]th entries, we got 6 wrong predictions in our model: 2 Chinstrap penguins were falsely predicted as Adelie and 4 Chinstrap penguins were falsely predicted as Gentoo. We will further explore these wrong data in Boolean indexing."
   ]
  },
  {
   "cell_type": "code",
   "execution_count": 41,
   "metadata": {
    "scrolled": true
   },
   "outputs": [
    {
     "data": {
      "text/plain": [
       "(array([2, 0, 2, 2, 2, 0], dtype=int64),\n",
       " 208    1\n",
       " 157    1\n",
       " 164    1\n",
       " 202    1\n",
       " 201    1\n",
       " 158    1\n",
       " Name: Species, dtype: int32)"
      ]
     },
     "execution_count": 41,
     "metadata": {},
     "output_type": "execute_result"
    }
   ],
   "source": [
    "mask=y_test!=y_test_pred #filter all wrong predictions\n",
    "\n",
    "#wrong result's predictor\n",
    "mistakes=X_test[mask][[\"Culmen Length (mm)\",\"Culmen Depth (mm)\",\"Sex\"]]  \n",
    "mistake_preds=y_test_pred[mask] #wrong result\n",
    "true_specie=y_test[mask] #actural result\n",
    "\n",
    "mistake_preds,true_specie #print wrong result vs actural result"
   ]
  },
  {
   "cell_type": "markdown",
   "metadata": {},
   "source": [
    "Here we can see the index of the penguins that were predicted wrong. We will then convert the array into table formatting to better observe why our model would make these mistakes."
   ]
  },
  {
   "cell_type": "code",
   "execution_count": 43,
   "metadata": {
    "scrolled": false
   },
   "outputs": [
    {
     "data": {
      "text/html": [
       "<div>\n",
       "<style scoped>\n",
       "    .dataframe tbody tr th:only-of-type {\n",
       "        vertical-align: middle;\n",
       "    }\n",
       "\n",
       "    .dataframe tbody tr th {\n",
       "        vertical-align: top;\n",
       "    }\n",
       "\n",
       "    .dataframe thead th {\n",
       "        text-align: right;\n",
       "    }\n",
       "</style>\n",
       "<table border=\"1\" class=\"dataframe\">\n",
       "  <thead>\n",
       "    <tr style=\"text-align: right;\">\n",
       "      <th></th>\n",
       "      <th>True Species</th>\n",
       "      <th>Wrong Prediction</th>\n",
       "      <th>Culmen Length (mm)</th>\n",
       "      <th>Culmen Depth (mm)</th>\n",
       "      <th>Sex</th>\n",
       "    </tr>\n",
       "  </thead>\n",
       "  <tbody>\n",
       "    <tr>\n",
       "      <th>208</th>\n",
       "      <td>Chinstrap</td>\n",
       "      <td>Gentoo</td>\n",
       "      <td>45.2</td>\n",
       "      <td>16.6</td>\n",
       "      <td>FEMALE</td>\n",
       "    </tr>\n",
       "    <tr>\n",
       "      <th>157</th>\n",
       "      <td>Chinstrap</td>\n",
       "      <td>Adelie</td>\n",
       "      <td>45.2</td>\n",
       "      <td>17.8</td>\n",
       "      <td>FEMALE</td>\n",
       "    </tr>\n",
       "    <tr>\n",
       "      <th>164</th>\n",
       "      <td>Chinstrap</td>\n",
       "      <td>Gentoo</td>\n",
       "      <td>47.0</td>\n",
       "      <td>17.3</td>\n",
       "      <td>FEMALE</td>\n",
       "    </tr>\n",
       "    <tr>\n",
       "      <th>202</th>\n",
       "      <td>Chinstrap</td>\n",
       "      <td>Gentoo</td>\n",
       "      <td>48.1</td>\n",
       "      <td>16.4</td>\n",
       "      <td>FEMALE</td>\n",
       "    </tr>\n",
       "    <tr>\n",
       "      <th>201</th>\n",
       "      <td>Chinstrap</td>\n",
       "      <td>Gentoo</td>\n",
       "      <td>49.8</td>\n",
       "      <td>17.3</td>\n",
       "      <td>FEMALE</td>\n",
       "    </tr>\n",
       "    <tr>\n",
       "      <th>158</th>\n",
       "      <td>Chinstrap</td>\n",
       "      <td>Adelie</td>\n",
       "      <td>46.1</td>\n",
       "      <td>18.2</td>\n",
       "      <td>FEMALE</td>\n",
       "    </tr>\n",
       "  </tbody>\n",
       "</table>\n",
       "</div>"
      ],
      "text/plain": [
       "    True Species Wrong Prediction  Culmen Length (mm)  Culmen Depth (mm)  \\\n",
       "208    Chinstrap           Gentoo                45.2               16.6   \n",
       "157    Chinstrap           Adelie                45.2               17.8   \n",
       "164    Chinstrap           Gentoo                47.0               17.3   \n",
       "202    Chinstrap           Gentoo                48.1               16.4   \n",
       "201    Chinstrap           Gentoo                49.8               17.3   \n",
       "158    Chinstrap           Adelie                46.1               18.2   \n",
       "\n",
       "        Sex  \n",
       "208  FEMALE  \n",
       "157  FEMALE  \n",
       "164  FEMALE  \n",
       "202  FEMALE  \n",
       "201  FEMALE  \n",
       "158  FEMALE  "
      ]
     },
     "execution_count": 43,
     "metadata": {},
     "output_type": "execute_result"
    }
   ],
   "source": [
    "mistake_df=pd.DataFrame({\"True Species\":true_specie,\"Wrong Prediction\":mistake_preds})\n",
    "mistake_table=pd.concat((mistake_df,mistakes),axis=1)\n",
    "\n",
    "#Match numbers to text information\n",
    "decode={0:'Adelie',1:'Chinstrap',2:'Gentoo'}\n",
    "decode1={0:'FEMALE',1:'MALE'}\n",
    "\n",
    "#show readable text format to readers\n",
    "mistake_table[\"True Species\"]=mistake_table[\"True Species\"].map(decode)\n",
    "mistake_table[\"Wrong Prediction\"]=mistake_table[\"Wrong Prediction\"].map(decode)\n",
    "mistake_table[\"Sex\"]=mistake_table[\"Sex\"].map(decode1)\n",
    "mistake_table"
   ]
  },
  {
   "cell_type": "markdown",
   "metadata": {},
   "source": [
    "We will then compare the individual data with the means of its corresponding group."
   ]
  },
  {
   "cell_type": "code",
   "execution_count": 38,
   "metadata": {},
   "outputs": [
    {
     "data": {
      "text/html": [
       "<div>\n",
       "<style scoped>\n",
       "    .dataframe tbody tr th:only-of-type {\n",
       "        vertical-align: middle;\n",
       "    }\n",
       "\n",
       "    .dataframe tbody tr th {\n",
       "        vertical-align: top;\n",
       "    }\n",
       "\n",
       "    .dataframe thead th {\n",
       "        text-align: right;\n",
       "    }\n",
       "</style>\n",
       "<table border=\"1\" class=\"dataframe\">\n",
       "  <thead>\n",
       "    <tr style=\"text-align: right;\">\n",
       "      <th></th>\n",
       "      <th></th>\n",
       "      <th>Culmen Length (mm)</th>\n",
       "      <th>Culmen Depth (mm)</th>\n",
       "    </tr>\n",
       "    <tr>\n",
       "      <th>Species</th>\n",
       "      <th>Sex</th>\n",
       "      <th></th>\n",
       "      <th></th>\n",
       "    </tr>\n",
       "  </thead>\n",
       "  <tbody>\n",
       "    <tr>\n",
       "      <th rowspan=\"2\" valign=\"top\">Adelie</th>\n",
       "      <th>FEMALE</th>\n",
       "      <td>37.298305</td>\n",
       "      <td>17.645763</td>\n",
       "    </tr>\n",
       "    <tr>\n",
       "      <th>MALE</th>\n",
       "      <td>40.640678</td>\n",
       "      <td>18.964407</td>\n",
       "    </tr>\n",
       "    <tr>\n",
       "      <th rowspan=\"2\" valign=\"top\">Chinstrap</th>\n",
       "      <th>FEMALE</th>\n",
       "      <td>46.634483</td>\n",
       "      <td>17.606897</td>\n",
       "    </tr>\n",
       "    <tr>\n",
       "      <th>MALE</th>\n",
       "      <td>50.946429</td>\n",
       "      <td>19.135714</td>\n",
       "    </tr>\n",
       "    <tr>\n",
       "      <th rowspan=\"2\" valign=\"top\">Gentoo</th>\n",
       "      <th>FEMALE</th>\n",
       "      <td>45.566667</td>\n",
       "      <td>14.214286</td>\n",
       "    </tr>\n",
       "    <tr>\n",
       "      <th>MALE</th>\n",
       "      <td>49.324490</td>\n",
       "      <td>15.734694</td>\n",
       "    </tr>\n",
       "  </tbody>\n",
       "</table>\n",
       "</div>"
      ],
      "text/plain": [
       "                  Culmen Length (mm)  Culmen Depth (mm)\n",
       "Species   Sex                                          \n",
       "Adelie    FEMALE           37.298305          17.645763\n",
       "          MALE             40.640678          18.964407\n",
       "Chinstrap FEMALE           46.634483          17.606897\n",
       "          MALE             50.946429          19.135714\n",
       "Gentoo    FEMALE           45.566667          14.214286\n",
       "          MALE             49.324490          15.734694"
      ]
     },
     "execution_count": 38,
     "metadata": {},
     "output_type": "execute_result"
    }
   ],
   "source": [
    "train.groupby([\"Species\",\"Sex\"])[[\"Culmen Length (mm)\",\"Culmen Depth (mm)\"]].mean()"
   ]
  },
  {
   "cell_type": "markdown",
   "metadata": {},
   "source": [
    "For example, we have penguin 208 is a female Chinstrap penguin. However, it has Culmen Length of 45.2, which is closer to 45.57 (female Gentoo penguins) rather than 46.63 of the female Chinstrap penguins. In this case, our model falsely predicted its specie. "
   ]
  },
  {
   "cell_type": "markdown",
   "metadata": {},
   "source": [
    "## Model 3: K-Nearest-Neighbor Classifiers"
   ]
  },
  {
   "cell_type": "markdown",
   "metadata": {},
   "source": [
    "For our third model, we will use K-Nearest-Neighbor model. The KNN model measures the similarity or proximity of data by calculating the distance between different points in the dataset. \n"
   ]
  },
  {
   "cell_type": "markdown",
   "metadata": {},
   "source": [
    "### Feature Selection"
   ]
  },
  {
   "cell_type": "markdown",
   "metadata": {},
   "source": [
    "Since we have pre-written a `check_column_score` function in the previous section, we will call the function below to choose the best combination for our KNN model."
   ]
  },
  {
   "cell_type": "code",
   "execution_count": 94,
   "metadata": {},
   "outputs": [
    {
     "name": "stdout",
     "output_type": "stream",
     "text": [
      "CV score is 0.973\n",
      "training with columns['Culmen Length (mm)', 'Culmen Depth (mm)', 'Sex']\n",
      "CV score is 0.773\n",
      "training with columns['Sex', 'Culmen Length (mm)', 'Body Mass (g)']\n",
      "CV score is 0.773\n",
      "training with columns['Island', 'Body Mass (g)', 'Culmen Length (mm)']\n",
      "CV score is 0.781\n",
      "training with columns['Body Mass (g)', 'Culmen Length (mm)', 'Culmen Depth (mm)']\n",
      "CV score is 0.731\n",
      "training with columns['Sex', 'Island', 'Body Mass (g)']\n",
      "CV score is 0.819\n",
      "training with columns['Sex', 'Island', 'Culmen Depth (mm)']\n",
      "CV score is 0.692\n",
      "training with columns['Body Mass (g)', 'Culmen Depth (mm)', 'Sex']\n"
     ]
    }
   ],
   "source": [
    "KNN=KNeighborsClassifier() #Set model\n",
    "best_combo=check_column_score(KNN) #call check_column_score function"
   ]
  },
  {
   "cell_type": "markdown",
   "metadata": {},
   "source": [
    "From the results shown above, we therefore can choose our features as columns 'Culmen Length (mm)', 'Culmen Depth (mm)', 'Sex' since it has the highest cross-validation score.\n",
    "\n",
    "Since the Cross-Validation applies unseen data to the model, it could accurately and fairly evaluate the performance of the model. By using __K-fold Cross-Validation__, we repeatly assign different data into our test set to evaluate our model and get the mean CV score 0.973."
   ]
  },
  {
   "cell_type": "code",
   "execution_count": 95,
   "metadata": {},
   "outputs": [],
   "source": [
    "X_train3=X_train[best_combo] #Set our train and test data\n",
    "X_test3=X_test[best_combo]"
   ]
  },
  {
   "cell_type": "markdown",
   "metadata": {},
   "source": [
    "\n",
    "Next, to find the optimal complexity parameter `n_neightbors` that will be used in our KNN model, we also employed the ___cross-validation___ method below. "
   ]
  },
  {
   "cell_type": "code",
   "execution_count": 96,
   "metadata": {},
   "outputs": [
    {
     "name": "stdout",
     "output_type": "stream",
     "text": [
      "0.9730769230769232 3\n"
     ]
    },
    {
     "data": {
      "image/png": "[encoded data removed]",
      "text/plain": [
       "<Figure size 432x288 with 1 Axes>"
      ]
     },
     "metadata": {
      "needs_background": "light"
     },
     "output_type": "display_data"
    }
   ],
   "source": [
    "# Plot to visualize the cross validation scores over model complexity\n",
    "fig, ax = plt.subplots(1) \n",
    "ax.set(xlabel = \"n neighbors\", ylabel = \"Cross-Validation Score\")\n",
    "\n",
    "# initialize the best score and parameter to 0 \n",
    "best_score, best_para = 0, 0 \n",
    "\n",
    "# loop through different complexity parameter n_neighbors\n",
    "for d in range(1, 30):\n",
    "    KNN = KNeighborsClassifier(n_neighbors = d) # initialize the KNN Model\n",
    "    \n",
    "    # compute mean of cv score\n",
    "    cv_score = cross_val_score(KNN, X_train3, y_train, cv = 5).mean() \n",
    "    ax.scatter(d, cv_score, color = \"blue\") # plot this point on the graph\n",
    "    \n",
    "    \n",
    "    # if the current cv score is greater than best_score, update best_score\n",
    "    if cv_score > best_score:\n",
    "        best_para = d\n",
    "        best_score = cv_score\n",
    "        \n",
    "ax.scatter(best_para, best_score, color = \"red\")\n",
    "print(best_score, best_para)\n"
   ]
  },
  {
   "cell_type": "markdown",
   "metadata": {},
   "source": [
    "By looking at the graph as well as our result for the optimal, here we get `n_neighbor` = 3 to be the best complexity parameter. We then set our KNN model using this information.\n",
    "\n",
    "Here, we got a cross-validation score of around 0.973 for our training data."
   ]
  },
  {
   "cell_type": "code",
   "execution_count": 97,
   "metadata": {},
   "outputs": [],
   "source": [
    "#set our model with the best n_neighbor\n",
    "KNN = KNeighborsClassifier(n_neighbors = best_para) "
   ]
  },
  {
   "cell_type": "markdown",
   "metadata": {},
   "source": [
    "### Evaluate Model on the Test Data"
   ]
  },
  {
   "cell_type": "code",
   "execution_count": 98,
   "metadata": {
    "scrolled": true
   },
   "outputs": [
    {
     "data": {
      "text/plain": [
       "1.0"
      ]
     },
     "execution_count": 98,
     "metadata": {},
     "output_type": "execute_result"
    }
   ],
   "source": [
    "KNN.fit(X_train3,y_train)\n",
    "KNN.score(X_test3,y_test)"
   ]
  },
  {
   "cell_type": "markdown",
   "metadata": {},
   "source": [
    "By evaluating our model against the unseen testing data, we gain an accuracy of 1.0, which is a very good result. It is higher than the cv score but the difference is not super huge."
   ]
  },
  {
   "cell_type": "markdown",
   "metadata": {},
   "source": [
    "### Inspecting the Errors"
   ]
  },
  {
   "cell_type": "markdown",
   "metadata": {},
   "source": [
    "Next, we will inspect some of the wrong predictions of the testing data results by using a __confusion matrix__ like we did in the previous models."
   ]
  },
  {
   "cell_type": "code",
   "execution_count": 100,
   "metadata": {
    "scrolled": false
   },
   "outputs": [
    {
     "data": {
      "text/plain": [
       "array([[27,  0,  0],\n",
       "       [ 0, 10,  0],\n",
       "       [ 0,  0, 27]], dtype=int64)"
      ]
     },
     "execution_count": 100,
     "metadata": {},
     "output_type": "execute_result"
    }
   ],
   "source": [
    "y_test_pred=KNN.predict(X_test3) \n",
    "\n",
    "from sklearn.metrics import confusion_matrix\n",
    "c=confusion_matrix(y_test,y_test_pred)\n",
    "c"
   ]
  },
  {
   "cell_type": "markdown",
   "metadata": {},
   "source": [
    "Suprisingly, we could see from the confusion matrix that our model has no error!!! We will explore the reason in the Discussion section later."
   ]
  },
  {
   "cell_type": "markdown",
   "metadata": {},
   "source": [
    "### Decision Region Plotting"
   ]
  },
  {
   "cell_type": "markdown",
   "metadata": {},
   "source": [
    "Now let's show our model's predicting results in graphs. We wrote a `plot_regions` function below to show the decision regions."
   ]
  },
  {
   "cell_type": "code",
   "execution_count": 101,
   "metadata": {
    "scrolled": true
   },
   "outputs": [
    {
     "data": {
      "image/png": "[encoded data removed]",
      "text/plain": [
       "<Figure size 720x288 with 2 Axes>"
      ]
     },
     "metadata": {
      "needs_background": "light"
     },
     "output_type": "display_data"
    }
   ],
   "source": [
    "#split the original penguins dataset into:\n",
    "#X(predictor variables with all columns) and y(target variable with \"Species\")\n",
    "X,y=prep_penguins_data(penguins)\n",
    "X3=X[best_combo]\n",
    "plot_regions(KNN,X3,y)"
   ]
  },
  {
   "cell_type": "markdown",
   "metadata": {},
   "source": [
    "By observing the two graphs above, we could tell that our model has a high accuracy that it has successfully predicted the species of most penguins.\n",
    "\n",
    "In addition, we observed there is an apparent difference between female and male penguins: female penguins generally have smaller culmen depths and culmen lengths than male penguins. Also, ___culmen depth___ and ___culmen length___ are both good predictors for species, as we could tell from the clear borders between different color blocks."
   ]
  },
  {
   "cell_type": "markdown",
   "metadata": {},
   "source": [
    "## §4. Discussion"
   ]
  },
  {
   "cell_type": "markdown",
   "metadata": {},
   "source": [
    "For all three models, we were able to achieve pretty satisfying results: Our __Decision Tree model__ was able to predict the test data with a 0.953125 accuracy; And both of our __Multinomial Logistic Regression model__ and __K-Nearest Neighbor model__ were able to predict with a 1.0 accuracy in our test data. However, we think we could improve the models by getting a larger data set, so we could have more training data and test data that can better reflect the ability of our models. With more data being available, we could train our model to get higher accuracies and avoid overfitting.\n",
    "\n",
    "Overall, we would like to recommend the __K-Nearest Neighbor model__ to interpret the Palmer Penguin dataset for the following reasons: first of all, it is able to achieve a 1.0 accuracy on the test data. Secondly, by observing the confusion matrix, we did not find any wrong predictions, which shows that KNN model is superior in predicting the penguin data compared to other two models. This might due to the fact that the KNN model itself is very good at predicting data with a small size of predicators.\n",
    "\n",
    "Even though we got pretty high accuracy in our model predictions, we still think there might be potential problems while implementing the three models in other settings.\n",
    "\n",
    "First of all, we believe there are several possible dangers of using a __Decision Tree model__ for prediction. Since the Decision Tree model predicts the value of a target variable by following a set of simple decision rules based on its own analysis, a small change in the dataset may in turn causes a large change in the structure of the decision tree. This will usually result in instability. Moreover, while we were finding the best parameters in multiple runs, we got very different max_depths with all of them having very high accuracy. This indicates that Decision Tree models sometimes can have far more complex calculations than necessary compared to other algorithms.\n",
    "\n",
    "While using __Logistic Regression models__ in other data sets, potential flaws might come from its inability to match all types of data set. For example, it inherently runs on a linear model, which would bring more restrictions when encountering a non-linear problem. In these situations, we might want to find other models that can better predict the data.\n",
    "\n",
    "Lastly, although the __K-Nearest Neighbor model__ had a high accuracy on predicting our test data, it also has some disadvantages when applying to other datasets. The KNN model is sensitive and its accuracy highly depends on the quality of the data. The scale of the data and irrelevant features might cause the KNN model to produce erroneous predictions. Also, the KNN model requires large storage space, which can be computationally expensive."
   ]
  }
 ],
 "metadata": {
  "kernelspec": {
   "display_name": "Python 3",
   "language": "python",
   "name": "python3"
  },
  "language_info": {
   "codemirror_mode": {
    "name": "ipython",
    "version": 3
   },
   "file_extension": ".py",
   "mimetype": "text/x-python",
   "name": "python",
   "nbconvert_exporter": "python",
   "pygments_lexer": "ipython3",
   "version": "3.8.5"
  }
 },
 "nbformat": 4,
 "nbformat_minor": 4
}
