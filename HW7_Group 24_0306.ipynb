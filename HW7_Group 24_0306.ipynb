{
 "cells": [
  {
   "cell_type": "markdown",
   "metadata": {},
   "source": [
    "# Homework 7\n",
    "\n",
    "Unlike previous homework assignments, this homework is **completed as a group** and **submitted on CCLE.** In other words, it's similar to an extended Discussion Activity. "
   ]
  },
  {
   "cell_type": "markdown",
   "metadata": {},
   "source": [
    "__Group 24: Ziwei Li, Yilia Zhao, Shiyu Ma__"
   ]
  },
  {
   "cell_type": "markdown",
   "metadata": {},
   "source": [
    "## Problem 0\n",
    "\n",
    "It is highly recommended that you work with your group to fully complete the previous Discussion assignments related to the project this week, as all of these are directly helpful for your project submission. "
   ]
  },
  {
   "cell_type": "markdown",
   "metadata": {},
   "source": [
    "## Problem 1\n",
    "\n",
    "In your project, you are required to demonstrate the use of decision trees and multinomial logistic regression classifiers. Groups of three must also demonstrate the use of one additional model. In this homework assignment, you will write a detailed report that will largely fulfill this requirement. \n",
    "\n",
    "Choose one machine learning model, other than decision trees and multinomial logistic regression (unless you are a group of 2 -- see below). Some possibilities include, but are not limited to: \n",
    "\n",
    "- Support vector classifiers (`sklearn.svm.SVC`). Complexity parameter is called `gamma`. Higher values create more complex models)\n",
    "- K-nearest-neighbor classifiers (`sklearn.neighbors.KNeighborsClassifier`). Complexity parameter is called `n_neighbors`. Higher values create less complex models. When working with KNN models, it is helpful to standardize your data columns first. For this purpose, `sklearn.preprocessing.StandardScaler` can be used. \n",
    "- Multilayer perceptron classifier, a kind of neural network (`sklearn.neural_network.MLPClassifier`). The complexity is controlled by the number of neurons and layers, as specified by the `hidden_layer_sizes` parameter -- more neurons and layers correspond to more complex models. \n",
    "\n",
    "You should consult the documentation for these models, which is available online or via `?`. \n",
    "\n",
    "\n",
    "#### Groups of 2\n",
    "\n",
    "If you are a group of 2, you are not required to use an additional model and may instead use multinomial logistic regression for this assignment. Please note this in your submission. \n",
    "\n",
    "- Multinomial logistic regression (`sklearn.linear_model.LogisticRegression`). The complexity is controlled by `C`, the inverse regularization strength. Larger values of `C` correspond to more complex models. \n",
    "\n",
    "### Instructions\n",
    "\n",
    "Replicate and expand the pipeline from Discussion 15, substituting out decision trees for your chosen classifier. In particular, you should: \n",
    "\n",
    "1. **Load** the data. \n",
    "2. **Split the data** into training and test sets. \n",
    "3. Write one or more functions to **clean and transform the data** as needed. You should add comments and function docstrings as appropriate to describe to your reader what you are doing and why. Apply your functions to the training and test sets. \n",
    "4. **Select 3 columns (features)** from the data. You are required to use at least one qualitative feature (like Island or Sex). We saw one way of doing this \"by hand\" during a previous Live Lecture, but there are many other approaches as well. You may wish to delegate one group member to do some research on the topic of \"feature selection in Python with sklearn\". \n",
    "4. **Use cross-validation** to estimate optimal model complexity (*Note*: cross-validation is also an acceptable way to perform feature selection -- you may use it above, but you are required to use it here). \n",
    "5. Having selected your features and an optimal complexity, **evaluate your model on the test set.** \n",
    "6. **Inspect** a few instances in which your trained model gave the wrong answer on the test set. Explain why your model was \"tricked\" in this case? Create and comment on a confusion matrix. (It might help to look at your lecture notes.)\n",
    "7. **Plot the decision regions** for your model. These are covered in a recent live lecture, and code required to construct them is below. The horizontal and vertical axes should be the two quantitative predictor variables that you selected. Create a separate plot for each possible value of the qualitative predictor variable that you selected. For example, if you chose `Sex` as your qualitative variable, you should show two plots, with the decision regions for Female and Male penguins separately. Add appropriate axis labels and any other measures required to make your plots look professional. Add commentary to contextualize the mistakes that your model made. \n",
    "      \n",
    "Throughout, add helpful explanation for your reader. For example, you should explain the idea behind cross-validation; anything you are able to learn about how your model works; how to interpret the optimal complexity parameter; and why your model went wrong in certain cases.  \n",
    "\n",
    "### Additional Specifications\n",
    "\n",
    "This homework will be graded by me personally, and will be graded using a rubric very similar to that used for the final project. I'll also give you some feedback indicating how you can improve. To get the most benefit out of this feedback, you should **treat this homework as a rehearsal for the full project.** \n",
    "\n",
    "Your solution should **not** fit in a single code cell -- a good, readable, and adequately-explained solution will likely require at least one code cell for each of the eight steps above. Make sure that there is plenty of surrounding text explanation and comments. Add code cells and plenty of markdown cells as needed. You can also use section headers with `###` to organize your work. \n",
    "\n",
    "Your comments and explanation should be written to an imaginary reader who has never encountered the Palmer Penguins data set before, and knows less about machine learning than you do. Explain your steps. Why train-test split? Why cross-validation? Why decision regions? And so on. If you'd like, imagine that you are writing to a time-traveller version of you from two weeks ago. \n",
    "\n",
    "It is not necessary to submit the HW on a copy of this notebook -- you may create and submit a fresh notebook if you wold like. Regardless, \n",
    "\n",
    "#### You are required to include a Group Contributions Statement on this HW. \n",
    "\n",
    "## Your Solution"
   ]
  },
  {
   "cell_type": "code",
   "execution_count": 1,
   "metadata": {},
   "outputs": [],
   "source": [
    "import pandas as pd\n",
    "import numpy as np\n",
    "from matplotlib import pyplot as plt\n",
    "from sklearn import tree, preprocessing\n",
    "from sklearn.linear_model import LogisticRegression\n",
    "from sklearn.model_selection import cross_val_score\n",
    "from sklearn.model_selection import train_test_split"
   ]
  },
  {
   "cell_type": "markdown",
   "metadata": {},
   "source": [
    "## §1. Loading and Preparing our data"
   ]
  },
  {
   "cell_type": "markdown",
   "metadata": {},
   "source": [
    "Starting with loading the penguin data, we changed the Species name to only get the first word of the species so that our data is easier to read.\n",
    "\n",
    "In this case, we get __Adelie, Chinstrap__, and __Gentoo__ for all the penguin species.\n",
    "Here are some example data:"
   ]
  },
  {
   "cell_type": "code",
   "execution_count": 51,
   "metadata": {
    "scrolled": true
   },
   "outputs": [
    {
     "data": {
      "text/html": [
       "<div>\n",
       "<style scoped>\n",
       "    .dataframe tbody tr th:only-of-type {\n",
       "        vertical-align: middle;\n",
       "    }\n",
       "\n",
       "    .dataframe tbody tr th {\n",
       "        vertical-align: top;\n",
       "    }\n",
       "\n",
       "    .dataframe thead th {\n",
       "        text-align: right;\n",
       "    }\n",
       "</style>\n",
       "<table border=\"1\" class=\"dataframe\">\n",
       "  <thead>\n",
       "    <tr style=\"text-align: right;\">\n",
       "      <th></th>\n",
       "      <th>studyName</th>\n",
       "      <th>Sample Number</th>\n",
       "      <th>Species</th>\n",
       "      <th>Region</th>\n",
       "      <th>Island</th>\n",
       "      <th>Stage</th>\n",
       "      <th>Individual ID</th>\n",
       "      <th>Clutch Completion</th>\n",
       "      <th>Date Egg</th>\n",
       "      <th>Culmen Length (mm)</th>\n",
       "      <th>Culmen Depth (mm)</th>\n",
       "      <th>Flipper Length (mm)</th>\n",
       "      <th>Body Mass (g)</th>\n",
       "      <th>Sex</th>\n",
       "      <th>Delta 15 N (o/oo)</th>\n",
       "      <th>Delta 13 C (o/oo)</th>\n",
       "      <th>Comments</th>\n",
       "    </tr>\n",
       "  </thead>\n",
       "  <tbody>\n",
       "    <tr>\n",
       "      <th>0</th>\n",
       "      <td>PAL0708</td>\n",
       "      <td>1</td>\n",
       "      <td>Adelie</td>\n",
       "      <td>Anvers</td>\n",
       "      <td>Torgersen</td>\n",
       "      <td>Adult, 1 Egg Stage</td>\n",
       "      <td>N1A1</td>\n",
       "      <td>Yes</td>\n",
       "      <td>11/11/07</td>\n",
       "      <td>39.1</td>\n",
       "      <td>18.7</td>\n",
       "      <td>181.0</td>\n",
       "      <td>3750.0</td>\n",
       "      <td>MALE</td>\n",
       "      <td>NaN</td>\n",
       "      <td>NaN</td>\n",
       "      <td>Not enough blood for isotopes.</td>\n",
       "    </tr>\n",
       "    <tr>\n",
       "      <th>1</th>\n",
       "      <td>PAL0708</td>\n",
       "      <td>2</td>\n",
       "      <td>Adelie</td>\n",
       "      <td>Anvers</td>\n",
       "      <td>Torgersen</td>\n",
       "      <td>Adult, 1 Egg Stage</td>\n",
       "      <td>N1A2</td>\n",
       "      <td>Yes</td>\n",
       "      <td>11/11/07</td>\n",
       "      <td>39.5</td>\n",
       "      <td>17.4</td>\n",
       "      <td>186.0</td>\n",
       "      <td>3800.0</td>\n",
       "      <td>FEMALE</td>\n",
       "      <td>8.94956</td>\n",
       "      <td>-24.69454</td>\n",
       "      <td>NaN</td>\n",
       "    </tr>\n",
       "    <tr>\n",
       "      <th>2</th>\n",
       "      <td>PAL0708</td>\n",
       "      <td>3</td>\n",
       "      <td>Adelie</td>\n",
       "      <td>Anvers</td>\n",
       "      <td>Torgersen</td>\n",
       "      <td>Adult, 1 Egg Stage</td>\n",
       "      <td>N2A1</td>\n",
       "      <td>Yes</td>\n",
       "      <td>11/16/07</td>\n",
       "      <td>40.3</td>\n",
       "      <td>18.0</td>\n",
       "      <td>195.0</td>\n",
       "      <td>3250.0</td>\n",
       "      <td>FEMALE</td>\n",
       "      <td>8.36821</td>\n",
       "      <td>-25.33302</td>\n",
       "      <td>NaN</td>\n",
       "    </tr>\n",
       "    <tr>\n",
       "      <th>3</th>\n",
       "      <td>PAL0708</td>\n",
       "      <td>4</td>\n",
       "      <td>Adelie</td>\n",
       "      <td>Anvers</td>\n",
       "      <td>Torgersen</td>\n",
       "      <td>Adult, 1 Egg Stage</td>\n",
       "      <td>N2A2</td>\n",
       "      <td>Yes</td>\n",
       "      <td>11/16/07</td>\n",
       "      <td>NaN</td>\n",
       "      <td>NaN</td>\n",
       "      <td>NaN</td>\n",
       "      <td>NaN</td>\n",
       "      <td>NaN</td>\n",
       "      <td>NaN</td>\n",
       "      <td>NaN</td>\n",
       "      <td>Adult not sampled.</td>\n",
       "    </tr>\n",
       "    <tr>\n",
       "      <th>4</th>\n",
       "      <td>PAL0708</td>\n",
       "      <td>5</td>\n",
       "      <td>Adelie</td>\n",
       "      <td>Anvers</td>\n",
       "      <td>Torgersen</td>\n",
       "      <td>Adult, 1 Egg Stage</td>\n",
       "      <td>N3A1</td>\n",
       "      <td>Yes</td>\n",
       "      <td>11/16/07</td>\n",
       "      <td>36.7</td>\n",
       "      <td>19.3</td>\n",
       "      <td>193.0</td>\n",
       "      <td>3450.0</td>\n",
       "      <td>FEMALE</td>\n",
       "      <td>8.76651</td>\n",
       "      <td>-25.32426</td>\n",
       "      <td>NaN</td>\n",
       "    </tr>\n",
       "    <tr>\n",
       "      <th>5</th>\n",
       "      <td>PAL0708</td>\n",
       "      <td>6</td>\n",
       "      <td>Adelie</td>\n",
       "      <td>Anvers</td>\n",
       "      <td>Torgersen</td>\n",
       "      <td>Adult, 1 Egg Stage</td>\n",
       "      <td>N3A2</td>\n",
       "      <td>Yes</td>\n",
       "      <td>11/16/07</td>\n",
       "      <td>39.3</td>\n",
       "      <td>20.6</td>\n",
       "      <td>190.0</td>\n",
       "      <td>3650.0</td>\n",
       "      <td>MALE</td>\n",
       "      <td>8.66496</td>\n",
       "      <td>-25.29805</td>\n",
       "      <td>NaN</td>\n",
       "    </tr>\n",
       "    <tr>\n",
       "      <th>6</th>\n",
       "      <td>PAL0708</td>\n",
       "      <td>7</td>\n",
       "      <td>Adelie</td>\n",
       "      <td>Anvers</td>\n",
       "      <td>Torgersen</td>\n",
       "      <td>Adult, 1 Egg Stage</td>\n",
       "      <td>N4A1</td>\n",
       "      <td>No</td>\n",
       "      <td>11/15/07</td>\n",
       "      <td>38.9</td>\n",
       "      <td>17.8</td>\n",
       "      <td>181.0</td>\n",
       "      <td>3625.0</td>\n",
       "      <td>FEMALE</td>\n",
       "      <td>9.18718</td>\n",
       "      <td>-25.21799</td>\n",
       "      <td>Nest never observed with full clutch.</td>\n",
       "    </tr>\n",
       "    <tr>\n",
       "      <th>7</th>\n",
       "      <td>PAL0708</td>\n",
       "      <td>8</td>\n",
       "      <td>Adelie</td>\n",
       "      <td>Anvers</td>\n",
       "      <td>Torgersen</td>\n",
       "      <td>Adult, 1 Egg Stage</td>\n",
       "      <td>N4A2</td>\n",
       "      <td>No</td>\n",
       "      <td>11/15/07</td>\n",
       "      <td>39.2</td>\n",
       "      <td>19.6</td>\n",
       "      <td>195.0</td>\n",
       "      <td>4675.0</td>\n",
       "      <td>MALE</td>\n",
       "      <td>9.46060</td>\n",
       "      <td>-24.89958</td>\n",
       "      <td>Nest never observed with full clutch.</td>\n",
       "    </tr>\n",
       "    <tr>\n",
       "      <th>8</th>\n",
       "      <td>PAL0708</td>\n",
       "      <td>9</td>\n",
       "      <td>Adelie</td>\n",
       "      <td>Anvers</td>\n",
       "      <td>Torgersen</td>\n",
       "      <td>Adult, 1 Egg Stage</td>\n",
       "      <td>N5A1</td>\n",
       "      <td>Yes</td>\n",
       "      <td>11/9/07</td>\n",
       "      <td>34.1</td>\n",
       "      <td>18.1</td>\n",
       "      <td>193.0</td>\n",
       "      <td>3475.0</td>\n",
       "      <td>NaN</td>\n",
       "      <td>NaN</td>\n",
       "      <td>NaN</td>\n",
       "      <td>No blood sample obtained.</td>\n",
       "    </tr>\n",
       "    <tr>\n",
       "      <th>9</th>\n",
       "      <td>PAL0708</td>\n",
       "      <td>10</td>\n",
       "      <td>Adelie</td>\n",
       "      <td>Anvers</td>\n",
       "      <td>Torgersen</td>\n",
       "      <td>Adult, 1 Egg Stage</td>\n",
       "      <td>N5A2</td>\n",
       "      <td>Yes</td>\n",
       "      <td>11/9/07</td>\n",
       "      <td>42.0</td>\n",
       "      <td>20.2</td>\n",
       "      <td>190.0</td>\n",
       "      <td>4250.0</td>\n",
       "      <td>NaN</td>\n",
       "      <td>9.13362</td>\n",
       "      <td>-25.09368</td>\n",
       "      <td>No blood sample obtained for sexing.</td>\n",
       "    </tr>\n",
       "  </tbody>\n",
       "</table>\n",
       "</div>"
      ],
      "text/plain": [
       "  studyName  Sample Number Species  Region     Island               Stage  \\\n",
       "0   PAL0708              1  Adelie  Anvers  Torgersen  Adult, 1 Egg Stage   \n",
       "1   PAL0708              2  Adelie  Anvers  Torgersen  Adult, 1 Egg Stage   \n",
       "2   PAL0708              3  Adelie  Anvers  Torgersen  Adult, 1 Egg Stage   \n",
       "3   PAL0708              4  Adelie  Anvers  Torgersen  Adult, 1 Egg Stage   \n",
       "4   PAL0708              5  Adelie  Anvers  Torgersen  Adult, 1 Egg Stage   \n",
       "5   PAL0708              6  Adelie  Anvers  Torgersen  Adult, 1 Egg Stage   \n",
       "6   PAL0708              7  Adelie  Anvers  Torgersen  Adult, 1 Egg Stage   \n",
       "7   PAL0708              8  Adelie  Anvers  Torgersen  Adult, 1 Egg Stage   \n",
       "8   PAL0708              9  Adelie  Anvers  Torgersen  Adult, 1 Egg Stage   \n",
       "9   PAL0708             10  Adelie  Anvers  Torgersen  Adult, 1 Egg Stage   \n",
       "\n",
       "  Individual ID Clutch Completion  Date Egg  Culmen Length (mm)  \\\n",
       "0          N1A1               Yes  11/11/07                39.1   \n",
       "1          N1A2               Yes  11/11/07                39.5   \n",
       "2          N2A1               Yes  11/16/07                40.3   \n",
       "3          N2A2               Yes  11/16/07                 NaN   \n",
       "4          N3A1               Yes  11/16/07                36.7   \n",
       "5          N3A2               Yes  11/16/07                39.3   \n",
       "6          N4A1                No  11/15/07                38.9   \n",
       "7          N4A2                No  11/15/07                39.2   \n",
       "8          N5A1               Yes   11/9/07                34.1   \n",
       "9          N5A2               Yes   11/9/07                42.0   \n",
       "\n",
       "   Culmen Depth (mm)  Flipper Length (mm)  Body Mass (g)     Sex  \\\n",
       "0               18.7                181.0         3750.0    MALE   \n",
       "1               17.4                186.0         3800.0  FEMALE   \n",
       "2               18.0                195.0         3250.0  FEMALE   \n",
       "3                NaN                  NaN            NaN     NaN   \n",
       "4               19.3                193.0         3450.0  FEMALE   \n",
       "5               20.6                190.0         3650.0    MALE   \n",
       "6               17.8                181.0         3625.0  FEMALE   \n",
       "7               19.6                195.0         4675.0    MALE   \n",
       "8               18.1                193.0         3475.0     NaN   \n",
       "9               20.2                190.0         4250.0     NaN   \n",
       "\n",
       "   Delta 15 N (o/oo)  Delta 13 C (o/oo)                               Comments  \n",
       "0                NaN                NaN         Not enough blood for isotopes.  \n",
       "1            8.94956          -24.69454                                    NaN  \n",
       "2            8.36821          -25.33302                                    NaN  \n",
       "3                NaN                NaN                     Adult not sampled.  \n",
       "4            8.76651          -25.32426                                    NaN  \n",
       "5            8.66496          -25.29805                                    NaN  \n",
       "6            9.18718          -25.21799  Nest never observed with full clutch.  \n",
       "7            9.46060          -24.89958  Nest never observed with full clutch.  \n",
       "8                NaN                NaN              No blood sample obtained.  \n",
       "9            9.13362          -25.09368   No blood sample obtained for sexing.  "
      ]
     },
     "execution_count": 51,
     "metadata": {},
     "output_type": "execute_result"
    }
   ],
   "source": [
    "##1\n",
    "url = 'https://philchodrow.github.io/PIC16A/datasets/palmer_penguins.csv'\n",
    "penguins = pd.read_csv(url)\n",
    "\n",
    "#shorten the species name\n",
    "penguins[\"Species\"] = penguins[\"Species\"].str.split().str.get(0)\n",
    "penguins.head(10)"
   ]
  },
  {
   "cell_type": "markdown",
   "metadata": {},
   "source": [
    "For our Machine Learning Model, we first need to split our penguins data into __training__ and __test sets__. Here we get 80% of the data to be our training data set that will be useful for our model training and the remaining 20% to be the testing data set."
   ]
  },
  {
   "cell_type": "code",
   "execution_count": 52,
   "metadata": {},
   "outputs": [
    {
     "data": {
      "text/plain": [
       "((275, 17), (69, 17))"
      ]
     },
     "execution_count": 52,
     "metadata": {},
     "output_type": "execute_result"
    }
   ],
   "source": [
    "##2.\n",
    "train,test=train_test_split(penguins,test_size=.2)\n",
    "train.shape,test.shape"
   ]
  },
  {
   "cell_type": "markdown",
   "metadata": {},
   "source": [
    "Next, in order to predict the species of the penguins given our datasets, we need to split the data into the ___\"predictor\"___ and ___\"target\"___ variables.\n",
    "\n",
    "For data cleaning and other preparation, we wrote a function `prep_penguins_data` to drop several columns of data that we have considered to be not helpful to our training indicated in our previous Exploratory Analysis. Also, we drop the rows with missing information to prevent running in any issues with our data.\n"
   ]
  },
  {
   "cell_type": "code",
   "execution_count": 53,
   "metadata": {},
   "outputs": [],
   "source": [
    "##3.\n",
    "def prep_penguins_data(data_df):\n",
    "    df = data_df.copy()\n",
    "    df=df.drop([\"studyName\",\"Sample Number\",\"Individual ID\",\"Comments\",\n",
    "                \"Region\",\"Stage\",\"Date Egg\",\"Clutch Completion\"],axis=1)\n",
    "    df=df.dropna()\n",
    "    le = preprocessing.LabelEncoder()\n",
    "    df['Sex'] = le.fit_transform(df['Sex'])\n",
    "    df['Species']=le.fit_transform(df['Species'])\n",
    "    df['Island']=le.fit_transform(df['Island'])\n",
    "    \n",
    "    X = df.drop([\"Species\"], axis = 1)\n",
    "    y = df[\"Species\"]\n",
    "        \n",
    "    return(X, y)\n",
    "\n",
    "X_train, y_train = prep_penguins_data(train)\n",
    "X_test,  y_test  = prep_penguins_data(test)"
   ]
  },
  {
   "cell_type": "markdown",
   "metadata": {},
   "source": [
    "## §2. ML Modeling"
   ]
  },
  {
   "cell_type": "markdown",
   "metadata": {},
   "source": [
    "In this section, we will use 1. 2. and 3.K-Nearest-Neighbor Classifiers as our models for data analysis."
   ]
  },
  {
   "cell_type": "markdown",
   "metadata": {},
   "source": [
    "### Model 3: K-Nearest-Neighbor Classifiers"
   ]
  },
  {
   "cell_type": "markdown",
   "metadata": {},
   "source": [
    "For our third model, we will use K-Nearest-Neighbor model. The KNN model measures the similarity or proximity of data by calculating the distance between different points in the dataset. \n",
    "\n",
    "To find the optimal complexity parameter `n_neightbors` that will be used in our KNN model, we also employed the ___cross-validation___ method below. "
   ]
  },
  {
   "cell_type": "code",
   "execution_count": 54,
   "metadata": {},
   "outputs": [
    {
     "name": "stdout",
     "output_type": "stream",
     "text": [
      "0.7769230769230768 1\n"
     ]
    },
    {
     "data": {
      "image/png": "[encoded data removed]",
      "text/plain": [
       "<Figure size 432x288 with 1 Axes>"
      ]
     },
     "metadata": {
      "needs_background": "light"
     },
     "output_type": "display_data"
    }
   ],
   "source": [
    "# Plot to visualize the cross validation scores over model complexity\n",
    "from sklearn.neighbors import KNeighborsClassifier\n",
    "\n",
    "fig, ax = plt.subplots(1) \n",
    "ax.set(xlabel = \"n neighbors\", ylabel = \"Cross-Validation Score\")\n",
    "\n",
    "# initialize the best score and parameter to 0 \n",
    "best_score, best_para = 0, 0 \n",
    "\n",
    "# loop through different complexity parameter n_neighbors\n",
    "for d in range(1, 30):\n",
    "    KNN = KNeighborsClassifier(n_neighbors = d) # initialize the KNN Model\n",
    "    # compute mean of cv score\n",
    "    cv_score = cross_val_score(KNN, X_train, y_train, cv = 5).mean() \n",
    "    ax.scatter(d, cv_score, color = \"blue\") # plot this point on the graph\n",
    "    \n",
    "    \n",
    "    # if the current cv score is greater than best_score, update best_score\n",
    "    if cv_score > best_score:\n",
    "        best_para = d\n",
    "        best_score = cv_score\n",
    "        \n",
    "ax.scatter(best_para, best_score, color = \"red\")\n",
    "print(best_score, best_para)\n"
   ]
  },
  {
   "cell_type": "markdown",
   "metadata": {},
   "source": [
    "By looking at the graph as well as our result for the optimal, here we get `n_neighbor` = 1 to be the best complexity parameter. We then set our KNN model using this information.\n",
    "\n",
    "Since we have not yet determine the most relevant columns for predicting the species, we got a cross-validation score of around 0.78. We will then continue improving our model by using feature selection."
   ]
  },
  {
   "cell_type": "code",
   "execution_count": 55,
   "metadata": {},
   "outputs": [],
   "source": [
    "model=KNeighborsClassifier(n_neighbors = best_para)"
   ]
  },
  {
   "cell_type": "markdown",
   "metadata": {},
   "source": [
    "Above is our current model with the best complexity parameter."
   ]
  },
  {
   "cell_type": "markdown",
   "metadata": {},
   "source": [
    "### Feature Selection"
   ]
  },
  {
   "cell_type": "markdown",
   "metadata": {},
   "source": [
    "In our previous Exploratory Analysis, we have discovered a few columns that might be useful in predicting the species of the penguins. Here we put the potential columns such as Culmen Length (mm), Culmen Depth (mm), Sex, Island, Body Mass (g) in different combinations with each other into a list called combos.\n",
    "\n",
    "We will then use __cross-validation__ to find the best combination of the columns that has the highest cross-validation score."
   ]
  },
  {
   "cell_type": "code",
   "execution_count": 56,
   "metadata": {
    "scrolled": true
   },
   "outputs": [
    {
     "name": "stdout",
     "output_type": "stream",
     "text": [
      "training with columns['Culmen Length (mm)', 'Culmen Depth (mm)', 'Sex']\n",
      "CV score is 0.965\n",
      "training with columns['Sex', 'Culmen Length (mm)', 'Body Mass (g)']\n",
      "CV score is 0.777\n",
      "training with columns['Island', 'Body Mass (g)', 'Culmen Length (mm)']\n",
      "CV score is 0.785\n",
      "training with columns['Island', 'Body Mass (g)', 'Culmen Length (mm)', 'Culmen Depth (mm)']\n",
      "CV score is 0.804\n",
      "training with columns['Sex', 'Island', 'Body Mass (g)', 'Culmen Length (mm)', 'Culmen Depth (mm)']\n",
      "CV score is 0.804\n"
     ]
    }
   ],
   "source": [
    "##4.\n",
    "def check_column_score(cols):\n",
    "    \"\"\"\n",
    "    Trains and evaluates the model via crossvalidation on the columns\n",
    "    of the dataset with select indices\n",
    "    \"\"\"\n",
    "    print(\"training with columns\"+str(cols))\n",
    "\n",
    "    return cross_val_score(model,X_train[cols],y_train,cv=5).mean()\n",
    "\n",
    "combos = [['Culmen Length (mm)', 'Culmen Depth (mm)', 'Sex'],\n",
    "          ['Sex', 'Culmen Length (mm)', 'Body Mass (g)'],\n",
    "          ['Island', 'Body Mass (g)','Culmen Length (mm)'],\n",
    "          ['Island', 'Body Mass (g)', 'Culmen Length (mm)', 'Culmen Depth (mm)'],\n",
    "          ['Sex', 'Island', 'Body Mass (g)', 'Culmen Length (mm)', 'Culmen Depth (mm)']]\n",
    "\n",
    "for combo in combos:\n",
    "    x=check_column_score(combo)\n",
    "    print(\"CV score is \"+str(np.round(x,3)))"
   ]
  },
  {
   "cell_type": "markdown",
   "metadata": {},
   "source": [
    "From the results shown above, we therefore can choose our features as columns 'Culmen Length (mm)', 'Culmen Depth (mm)', 'Sex' since it has the highest cross-validation score.\n",
    "\n",
    "Since the Cross-Validation applies unseen data to the model, it could accurately and fairly evaluate the performance of the model. By using __K-fold Cross-Validation__, we repeatly assign different data into our test set to evaluate our model and get the mean CV score 0.965."
   ]
  },
  {
   "cell_type": "markdown",
   "metadata": {},
   "source": [
    "### Evaluate Model on the Test Data"
   ]
  },
  {
   "cell_type": "code",
   "execution_count": 57,
   "metadata": {
    "scrolled": true
   },
   "outputs": [
    {
     "data": {
      "text/plain": [
       "0.9384615384615385"
      ]
     },
     "execution_count": 57,
     "metadata": {},
     "output_type": "execute_result"
    }
   ],
   "source": [
    "##6.\n",
    "model.fit(X_train[combos[0]],y_train)\n",
    "model.score(X_test[combos[0]],y_test)"
   ]
  },
  {
   "cell_type": "markdown",
   "metadata": {},
   "source": [
    "By evaluating our model against the unseen testing data, we gain an accuracy of 0.94, which is a fairly good result. It is slightly lower than the cv score but the difference is not super huge. Therefore, there might be no overfitting in our model."
   ]
  },
  {
   "cell_type": "markdown",
   "metadata": {},
   "source": [
    "### Inspecting the Errors"
   ]
  },
  {
   "cell_type": "markdown",
   "metadata": {},
   "source": [
    "Next, we will inspect some of the wrong predictions of the testing data results by using a __confusion matrix__."
   ]
  },
  {
   "cell_type": "code",
   "execution_count": 59,
   "metadata": {
    "scrolled": false
   },
   "outputs": [
    {
     "data": {
      "text/plain": [
       "array([[28,  0,  0],\n",
       "       [ 2, 12,  2],\n",
       "       [ 0,  0, 21]], dtype=int64)"
      ]
     },
     "execution_count": 59,
     "metadata": {},
     "output_type": "execute_result"
    }
   ],
   "source": [
    "##7.\n",
    "y_test_pred=model.predict(X_test[combos[0]]) \n",
    "\n",
    "from sklearn.metrics import confusion_matrix\n",
    "c=confusion_matrix(y_test,y_test_pred)\n",
    "c"
   ]
  },
  {
   "cell_type": "markdown",
   "metadata": {},
   "source": [
    "The `i,j`th entry of the confusion matrix array above gives the number of times that the model predicted specie `j` when the true specie was actually `i`. \n",
    "\n",
    "Thus each row of the array represents the actual Species of penguins, where row 1 is an Adelie, 2 is a Chinstrap, and 3 is a Gentoo. Each columns represents the predicted Species of penguins, where columns 1, 2, 3 indicates Species with the same order above.\n",
    "\n",
    "From the confusion matrix, we could see that large numbers are on the diagonal and this indicates the model is usually right. However, the [1,0]th entry and the [1,2]th entry is 2. These two numbers correspond to the false predictions shown above: 2 specie-1 penguins(Chinstrap) were falsely predicted as specie-0 penguins(Adelie), and 2 specie-1 penguins(Chinstrap) were falsely predicted as specie-2 penguins(Gentoo).\n",
    "\n",
    "Let's take a look at some of these cases using Boolean indexing: "
   ]
  },
  {
   "cell_type": "code",
   "execution_count": 60,
   "metadata": {},
   "outputs": [
    {
     "data": {
      "text/plain": [
       "(array([2, 0, 0, 2]),\n",
       " 166    1\n",
       " 216    1\n",
       " 160    1\n",
       " 213    1\n",
       " Name: Species, dtype: int32)"
      ]
     },
     "execution_count": 60,
     "metadata": {},
     "output_type": "execute_result"
    }
   ],
   "source": [
    "mask=y_test!=y_test_pred #filter all wrong predictions\n",
    "\n",
    "#wrong result's predictor\n",
    "mistakes=X_test[mask][[\"Culmen Length (mm)\",\"Culmen Depth (mm)\",\"Sex\"]]  \n",
    "\n",
    "mistake_preds=y_test_pred[mask] #wrong result\n",
    "true_specie=y_test[mask] #actural result\n",
    "\n",
    "mistake_preds,true_specie #print wrong result vs actural result"
   ]
  },
  {
   "cell_type": "markdown",
   "metadata": {},
   "source": [
    "Here we can see the specific entries that were falsely predicted. Let's reframe the data in a clearer table to figure out why our model was \"tricked\"."
   ]
  },
  {
   "cell_type": "code",
   "execution_count": 66,
   "metadata": {
    "scrolled": false
   },
   "outputs": [
    {
     "data": {
      "text/html": [
       "<div>\n",
       "<style scoped>\n",
       "    .dataframe tbody tr th:only-of-type {\n",
       "        vertical-align: middle;\n",
       "    }\n",
       "\n",
       "    .dataframe tbody tr th {\n",
       "        vertical-align: top;\n",
       "    }\n",
       "\n",
       "    .dataframe thead th {\n",
       "        text-align: right;\n",
       "    }\n",
       "</style>\n",
       "<table border=\"1\" class=\"dataframe\">\n",
       "  <thead>\n",
       "    <tr style=\"text-align: right;\">\n",
       "      <th></th>\n",
       "      <th>True Species</th>\n",
       "      <th>Wrong Prediction</th>\n",
       "      <th>Culmen Length (mm)</th>\n",
       "      <th>Culmen Depth (mm)</th>\n",
       "      <th>Sex</th>\n",
       "    </tr>\n",
       "  </thead>\n",
       "  <tbody>\n",
       "    <tr>\n",
       "      <th>166</th>\n",
       "      <td>Chinstrap</td>\n",
       "      <td>Gentoo</td>\n",
       "      <td>45.9</td>\n",
       "      <td>17.1</td>\n",
       "      <td>FEMALE</td>\n",
       "    </tr>\n",
       "    <tr>\n",
       "      <th>216</th>\n",
       "      <td>Chinstrap</td>\n",
       "      <td>Adelie</td>\n",
       "      <td>43.5</td>\n",
       "      <td>18.1</td>\n",
       "      <td>FEMALE</td>\n",
       "    </tr>\n",
       "    <tr>\n",
       "      <th>160</th>\n",
       "      <td>Chinstrap</td>\n",
       "      <td>Adelie</td>\n",
       "      <td>46.0</td>\n",
       "      <td>18.9</td>\n",
       "      <td>FEMALE</td>\n",
       "    </tr>\n",
       "    <tr>\n",
       "      <th>213</th>\n",
       "      <td>Chinstrap</td>\n",
       "      <td>Gentoo</td>\n",
       "      <td>46.8</td>\n",
       "      <td>16.5</td>\n",
       "      <td>FEMALE</td>\n",
       "    </tr>\n",
       "  </tbody>\n",
       "</table>\n",
       "</div>"
      ],
      "text/plain": [
       "    True Species Wrong Prediction  Culmen Length (mm)  Culmen Depth (mm)  \\\n",
       "166    Chinstrap           Gentoo                45.9               17.1   \n",
       "216    Chinstrap           Adelie                43.5               18.1   \n",
       "160    Chinstrap           Adelie                46.0               18.9   \n",
       "213    Chinstrap           Gentoo                46.8               16.5   \n",
       "\n",
       "        Sex  \n",
       "166  FEMALE  \n",
       "216  FEMALE  \n",
       "160  FEMALE  \n",
       "213  FEMALE  "
      ]
     },
     "execution_count": 66,
     "metadata": {},
     "output_type": "execute_result"
    }
   ],
   "source": [
    "mistake_df=pd.DataFrame({\"True Species\":true_specie,\"Wrong Prediction\":mistake_preds})\n",
    "mistake_table=pd.concat((mistake_df,mistakes),axis=1)\n",
    "decode={0:'Adelie',1:'Chinstrap',2:'Gentoo'}\n",
    "decode1={0:'Unknown',1:'FEMALE',2:'MALE'}\n",
    "mistake_table[\"True Species\"]=mistake_table[\"True Species\"].map(decode)\n",
    "mistake_table[\"Wrong Prediction\"]=mistake_table[\"Wrong Prediction\"].map(decode)\n",
    "mistake_table[\"Sex\"]=mistake_table[\"Sex\"].map(decode1)\n",
    "mistake_table"
   ]
  },
  {
   "cell_type": "markdown",
   "metadata": {},
   "source": [
    "Now let's see the variable means of the three species. "
   ]
  },
  {
   "cell_type": "code",
   "execution_count": 64,
   "metadata": {
    "scrolled": true
   },
   "outputs": [
    {
     "data": {
      "text/html": [
       "<div>\n",
       "<style scoped>\n",
       "    .dataframe tbody tr th:only-of-type {\n",
       "        vertical-align: middle;\n",
       "    }\n",
       "\n",
       "    .dataframe tbody tr th {\n",
       "        vertical-align: top;\n",
       "    }\n",
       "\n",
       "    .dataframe thead th {\n",
       "        text-align: right;\n",
       "    }\n",
       "</style>\n",
       "<table border=\"1\" class=\"dataframe\">\n",
       "  <thead>\n",
       "    <tr style=\"text-align: right;\">\n",
       "      <th></th>\n",
       "      <th></th>\n",
       "      <th>Culmen Length (mm)</th>\n",
       "      <th>Culmen Depth (mm)</th>\n",
       "    </tr>\n",
       "    <tr>\n",
       "      <th>Species</th>\n",
       "      <th>Sex</th>\n",
       "      <th></th>\n",
       "      <th></th>\n",
       "    </tr>\n",
       "  </thead>\n",
       "  <tbody>\n",
       "    <tr>\n",
       "      <th rowspan=\"2\" valign=\"top\">Adelie</th>\n",
       "      <th>FEMALE</th>\n",
       "      <td>37.437037</td>\n",
       "      <td>17.601852</td>\n",
       "    </tr>\n",
       "    <tr>\n",
       "      <th>MALE</th>\n",
       "      <td>40.411290</td>\n",
       "      <td>19.072581</td>\n",
       "    </tr>\n",
       "    <tr>\n",
       "      <th rowspan=\"2\" valign=\"top\">Chinstrap</th>\n",
       "      <th>FEMALE</th>\n",
       "      <td>46.532000</td>\n",
       "      <td>17.520000</td>\n",
       "    </tr>\n",
       "    <tr>\n",
       "      <th>MALE</th>\n",
       "      <td>50.748148</td>\n",
       "      <td>19.207407</td>\n",
       "    </tr>\n",
       "    <tr>\n",
       "      <th rowspan=\"2\" valign=\"top\">Gentoo</th>\n",
       "      <th>FEMALE</th>\n",
       "      <td>45.568627</td>\n",
       "      <td>14.231373</td>\n",
       "    </tr>\n",
       "    <tr>\n",
       "      <th>MALE</th>\n",
       "      <td>49.493750</td>\n",
       "      <td>15.702083</td>\n",
       "    </tr>\n",
       "  </tbody>\n",
       "</table>\n",
       "</div>"
      ],
      "text/plain": [
       "                  Culmen Length (mm)  Culmen Depth (mm)\n",
       "Species   Sex                                          \n",
       "Adelie    FEMALE           37.437037          17.601852\n",
       "          MALE             40.411290          19.072581\n",
       "Chinstrap FEMALE           46.532000          17.520000\n",
       "          MALE             50.748148          19.207407\n",
       "Gentoo    FEMALE           45.568627          14.231373\n",
       "          MALE             49.493750          15.702083"
      ]
     },
     "execution_count": 64,
     "metadata": {},
     "output_type": "execute_result"
    }
   ],
   "source": [
    "train.groupby([\"Species\",\"Sex\"])[[\"Culmen Length (mm)\",\"Culmen Depth (mm)\"]].mean()"
   ]
  },
  {
   "cell_type": "markdown",
   "metadata": {},
   "source": [
    "Compare the variable values of the falsely predicted data with the variable means above, we can see that some penguins have values of Culmen Length, Culmen Depth that are similar to those of other species. \n",
    "\n",
    "For example, penguin 166 is a female Chinstrap penguin. However, it has Culmen Length of 45.9, which is closer to 45.47 (female Gentoo penguins) rather than 46.53 of the female Chinstrap penguins. In this case, our model falsely predicted its specie. "
   ]
  },
  {
   "cell_type": "markdown",
   "metadata": {},
   "source": [
    "### Decision Region Plotting"
   ]
  },
  {
   "cell_type": "markdown",
   "metadata": {},
   "source": [
    "Now let's show our model's predicting results in graphs. We wrote a `plot_regions` function below to show the decision regions."
   ]
  },
  {
   "cell_type": "code",
   "execution_count": 67,
   "metadata": {},
   "outputs": [
    {
     "data": {
      "image/png": "[encoded data removed]",
      "text/plain": [
       "<Figure size 720x288 with 2 Axes>"
      ]
     },
     "metadata": {
      "needs_background": "light"
     },
     "output_type": "display_data"
    }
   ],
   "source": [
    "def plot_regions(c,X,y):\n",
    "    \"\"\"\n",
    "    Plot the decision regions of a classifer\n",
    "    c: the classifier\n",
    "    X: the data frame with all three columns of predictor variables (sex, culmen \n",
    "    length, culment depth)\n",
    "    y: the target variable which contains the column \"Species\"\n",
    "    \n",
    "    Outputs\n",
    "    -------\n",
    "    Does not return any values.\n",
    "    plot the decision regions of the machine learning model on the two sex groups\n",
    "    \n",
    "    \"\"\"\n",
    "    \n",
    "    #create an empty plot with two subplots\n",
    "    fig, ax = plt.subplots(1,2,figsize=(10,4))\n",
    "\n",
    "    #separate X and y into two sex groups: \"_f\" represents the female group; \n",
    "    #\"_m\" represents the male group\n",
    "    mask_f=X[\"Sex\"]==1\n",
    "    X_f=X[mask_f]\n",
    "    y_f=y[mask_f]\n",
    "    mask_m=X[\"Sex\"]==2\n",
    "    X_m=X[mask_m]\n",
    "    y_m=y[mask_m]\n",
    "\n",
    "    #recode labels \n",
    "    le = preprocessing.LabelEncoder()        \n",
    "    y_f= le.fit_transform(y_f)\n",
    "    y_m= le.fit_transform(y_m)\n",
    "    \n",
    "    x0_f=X_f['Culmen Length (mm)']\n",
    "    x1_f=X_f['Culmen Depth (mm)']\n",
    "    x0_m=X_m['Culmen Length (mm)']\n",
    "    x1_m=X_m['Culmen Depth (mm)']\n",
    "    \n",
    "    #create two grids for two sexes\n",
    "    grid_x_f=np.linspace(x0_f.min(),x0_f.max(),501)\n",
    "    grid_y_f=np.linspace(x1_f.min(),x1_f.max(),501)\n",
    "    xx_f,yy_f=np.meshgrid(grid_x_f,grid_y_f) #has 501x501\n",
    "    grid_x_m=np.linspace(x0_m.min(),x0_m.max(),501)\n",
    "    grid_y_m=np.linspace(x1_m.min(),x1_m.max(),501)\n",
    "    xx_m,yy_m=np.meshgrid(grid_x_m,grid_y_m)\n",
    "    \n",
    "    #make the sex column either zeros or ones\n",
    "    male = np.zeros(251001)\n",
    "    female = np.ones(251001)\n",
    "    \n",
    "    ##this part is for famale penguins\n",
    "    #fit the female model\n",
    "    c.fit(X_f,y_f)\n",
    "    #convert columns to 1d arrays\n",
    "    XX_f=xx_f.ravel()\n",
    "    YY_f=yy_f.ravel()\n",
    "    #use model to make predictions\n",
    "    p_f=c.predict(np.c_[XX_f,YY_f,female])    \n",
    "    #reshape the prediction to a 2d array\n",
    "    p_f=p_f.reshape(xx_f.shape)\n",
    "    #plot the decision regions for female penguins, color-coded by species\n",
    "    ax[0].contourf(xx_f,yy_f,p_f,cmap=\"jet\",alpha=.2)\n",
    "    #plot the scatter plot for female penguins\n",
    "    ax[0].scatter(x0_f,x1_f,c=y_f,cmap=\"jet\")\n",
    "    \n",
    "    ##this part is for male penguins, similar to the code above\n",
    "    c.fit(X_m,y_m)\n",
    "    XX_m=xx_m.ravel()\n",
    "    YY_m=yy_m.ravel()\n",
    "    p_m=c.predict(np.c_[XX_m,YY_m,male])\n",
    "    p_m=p_m.reshape(xx_m.shape)\n",
    "    ax[1].contourf(xx_m,yy_m,p_m,cmap=\"jet\",alpha=.2)\n",
    "    ax[1].scatter(x0_m,x1_m,c=y_m,cmap=\"jet\")\n",
    "    \n",
    "    #set labels to the plots\n",
    "    ax[0].set(xlabel = \"Culmen Length (mm)\",\n",
    "           ylabel = \"Culmen Depth (mm)\",\n",
    "           title = \"Female Penguins\")\n",
    "    ax[1].set(xlabel = \"Culmen Length (mm)\",\n",
    "           ylabel = \"Culmen Depth (mm)\",\n",
    "           title = \"Male Penguins\")\n",
    "\n",
    "#split the original penguins dataset into:\n",
    "#X(predictor variables with all columns) and y(target variable with \"Species\")\n",
    "X,y=prep_penguins_data(penguins)\n",
    "#modify X to contain selected three predictor variables\n",
    "X=X[combos[0]]\n",
    "\n",
    "plot_regions(model,X,y)"
   ]
  },
  {
   "cell_type": "markdown",
   "metadata": {},
   "source": [
    "By observing the two graphs above, we could tell that our model has a high accuracy that it has successfully predicted the species of most penguins.\n",
    "\n",
    "In addition, we observed there is an apparent difference between female and male penguins: female penguins generally have smaller culmen depths and culmen lengths than male penguins. Also, ___culmen depth___ and ___culmen length___ are both good predictors for species, as we could tell from the clear borders between different color blocks."
   ]
  },
  {
   "cell_type": "markdown",
   "metadata": {},
   "source": [
    "## Contribution Statement"
   ]
  },
  {
   "cell_type": "markdown",
   "metadata": {},
   "source": [
    "In this assignment, we worked together to figure out the right model to do the machine learning of penguins dataset. Ziwei made a great contribution in clearing the raw data, and spliting the data into training and test sets. Then, we worked collaboratively to determine the prospective feature combinations and found out the best combo by using cross-validation. Shiyu constructed a function which uses cross-validation to estimate optimal model complexity, and estimated the model accuracy based on our selected columns and model complexity. Yilia accomplished most of the decision region plotting function, and interpreted meanings of the graphs. Finally, we worked together to finish the docstrings and comments of our codes, and we modified our assignment into a well-organized notebook as well."
   ]
  }
 ],
 "metadata": {
  "kernelspec": {
   "display_name": "Python 3",
   "language": "python",
   "name": "python3"
  },
  "language_info": {
   "codemirror_mode": {
    "name": "ipython",
    "version": 3
   },
   "file_extension": ".py",
   "mimetype": "text/x-python",
   "name": "python",
   "nbconvert_exporter": "python",
   "pygments_lexer": "ipython3",
   "version": "3.8.5"
  }
 },
 "nbformat": 4,
 "nbformat_minor": 4
}
